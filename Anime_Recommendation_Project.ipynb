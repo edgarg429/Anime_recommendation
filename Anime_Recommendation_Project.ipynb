{
 "cells": [
  {
   "cell_type": "markdown",
   "metadata": {},
   "source": [
    "# Anime Recommedation Project"
   ]
  },
  {
   "cell_type": "code",
   "execution_count": 368,
   "metadata": {},
   "outputs": [],
   "source": [
    "#Importing all the libraries I'll be using for this notebook\n",
    "\n",
    "import pandas as pd\n",
    "pd.set_option('display.max_columns',50)\n",
    "import re\n",
    "import matplotlib.pyplot as plt\n",
    "import numpy as np\n",
    "from surprise import Reader, Dataset\n",
    "from surprise.model_selection import cross_validate, train_test_split\n",
    "from surprise.prediction_algorithms import KNNWithMeans, KNNBasic, KNNBaseline, SVD, SVDpp\n",
    "from surprise.model_selection import GridSearchCV\n",
    "from surprise import accuracy\n",
    "from IPython.display import clear_output"
   ]
  },
  {
   "cell_type": "markdown",
   "metadata": {},
   "source": [
    "### Data Cleanup"
   ]
  },
  {
   "cell_type": "code",
   "execution_count": 2,
   "metadata": {},
   "outputs": [],
   "source": [
    "#Importing dataset of all anime titles  into a Dataframe\n",
    "anime_df_no_syn = pd.read_csv('./Anime_data/anime.csv')"
   ]
  },
  {
   "cell_type": "code",
   "execution_count": 3,
   "metadata": {},
   "outputs": [
    {
     "data": {
      "text/html": [
       "<div>\n",
       "<style scoped>\n",
       "    .dataframe tbody tr th:only-of-type {\n",
       "        vertical-align: middle;\n",
       "    }\n",
       "\n",
       "    .dataframe tbody tr th {\n",
       "        vertical-align: top;\n",
       "    }\n",
       "\n",
       "    .dataframe thead th {\n",
       "        text-align: right;\n",
       "    }\n",
       "</style>\n",
       "<table border=\"1\" class=\"dataframe\">\n",
       "  <thead>\n",
       "    <tr style=\"text-align: right;\">\n",
       "      <th></th>\n",
       "      <th>MAL_ID</th>\n",
       "      <th>Name</th>\n",
       "      <th>Score</th>\n",
       "      <th>Genres</th>\n",
       "      <th>English name</th>\n",
       "      <th>Japanese name</th>\n",
       "      <th>Type</th>\n",
       "      <th>Episodes</th>\n",
       "      <th>Aired</th>\n",
       "      <th>Premiered</th>\n",
       "      <th>Producers</th>\n",
       "      <th>Licensors</th>\n",
       "      <th>Studios</th>\n",
       "      <th>Source</th>\n",
       "      <th>Duration</th>\n",
       "      <th>Rating</th>\n",
       "      <th>Ranked</th>\n",
       "      <th>Popularity</th>\n",
       "      <th>Members</th>\n",
       "      <th>Favorites</th>\n",
       "      <th>Watching</th>\n",
       "      <th>Completed</th>\n",
       "      <th>On-Hold</th>\n",
       "      <th>Dropped</th>\n",
       "      <th>Plan to Watch</th>\n",
       "      <th>Score-10</th>\n",
       "      <th>Score-9</th>\n",
       "      <th>Score-8</th>\n",
       "      <th>Score-7</th>\n",
       "      <th>Score-6</th>\n",
       "      <th>Score-5</th>\n",
       "      <th>Score-4</th>\n",
       "      <th>Score-3</th>\n",
       "      <th>Score-2</th>\n",
       "      <th>Score-1</th>\n",
       "    </tr>\n",
       "  </thead>\n",
       "  <tbody>\n",
       "    <tr>\n",
       "      <th>0</th>\n",
       "      <td>1</td>\n",
       "      <td>Cowboy Bebop</td>\n",
       "      <td>8.78</td>\n",
       "      <td>Action, Adventure, Comedy, Drama, Sci-Fi, Space</td>\n",
       "      <td>Cowboy Bebop</td>\n",
       "      <td>カウボーイビバップ</td>\n",
       "      <td>TV</td>\n",
       "      <td>26</td>\n",
       "      <td>Apr 3, 1998 to Apr 24, 1999</td>\n",
       "      <td>Spring 1998</td>\n",
       "      <td>Bandai Visual</td>\n",
       "      <td>Funimation, Bandai Entertainment</td>\n",
       "      <td>Sunrise</td>\n",
       "      <td>Original</td>\n",
       "      <td>24 min. per ep.</td>\n",
       "      <td>R - 17+ (violence &amp; profanity)</td>\n",
       "      <td>28.0</td>\n",
       "      <td>39</td>\n",
       "      <td>1251960</td>\n",
       "      <td>61971</td>\n",
       "      <td>105808</td>\n",
       "      <td>718161</td>\n",
       "      <td>71513</td>\n",
       "      <td>26678</td>\n",
       "      <td>329800</td>\n",
       "      <td>229170.0</td>\n",
       "      <td>182126.0</td>\n",
       "      <td>131625.0</td>\n",
       "      <td>62330.0</td>\n",
       "      <td>20688.0</td>\n",
       "      <td>8904.0</td>\n",
       "      <td>3184.0</td>\n",
       "      <td>1357.0</td>\n",
       "      <td>741.0</td>\n",
       "      <td>1580.0</td>\n",
       "    </tr>\n",
       "    <tr>\n",
       "      <th>1</th>\n",
       "      <td>5</td>\n",
       "      <td>Cowboy Bebop: Tengoku no Tobira</td>\n",
       "      <td>8.39</td>\n",
       "      <td>Action, Drama, Mystery, Sci-Fi, Space</td>\n",
       "      <td>Cowboy Bebop:The Movie</td>\n",
       "      <td>カウボーイビバップ 天国の扉</td>\n",
       "      <td>Movie</td>\n",
       "      <td>1</td>\n",
       "      <td>Sep 1, 2001</td>\n",
       "      <td>Unknown</td>\n",
       "      <td>Sunrise, Bandai Visual</td>\n",
       "      <td>Sony Pictures Entertainment</td>\n",
       "      <td>Bones</td>\n",
       "      <td>Original</td>\n",
       "      <td>1 hr. 55 min.</td>\n",
       "      <td>R - 17+ (violence &amp; profanity)</td>\n",
       "      <td>159.0</td>\n",
       "      <td>518</td>\n",
       "      <td>273145</td>\n",
       "      <td>1174</td>\n",
       "      <td>4143</td>\n",
       "      <td>208333</td>\n",
       "      <td>1935</td>\n",
       "      <td>770</td>\n",
       "      <td>57964</td>\n",
       "      <td>30043.0</td>\n",
       "      <td>49201.0</td>\n",
       "      <td>49505.0</td>\n",
       "      <td>22632.0</td>\n",
       "      <td>5805.0</td>\n",
       "      <td>1877.0</td>\n",
       "      <td>577.0</td>\n",
       "      <td>221.0</td>\n",
       "      <td>109.0</td>\n",
       "      <td>379.0</td>\n",
       "    </tr>\n",
       "    <tr>\n",
       "      <th>2</th>\n",
       "      <td>6</td>\n",
       "      <td>Trigun</td>\n",
       "      <td>8.24</td>\n",
       "      <td>Action, Sci-Fi, Adventure, Comedy, Drama, Shounen</td>\n",
       "      <td>Trigun</td>\n",
       "      <td>トライガン</td>\n",
       "      <td>TV</td>\n",
       "      <td>26</td>\n",
       "      <td>Apr 1, 1998 to Sep 30, 1998</td>\n",
       "      <td>Spring 1998</td>\n",
       "      <td>Victor Entertainment</td>\n",
       "      <td>Funimation, Geneon Entertainment USA</td>\n",
       "      <td>Madhouse</td>\n",
       "      <td>Manga</td>\n",
       "      <td>24 min. per ep.</td>\n",
       "      <td>PG-13 - Teens 13 or older</td>\n",
       "      <td>266.0</td>\n",
       "      <td>201</td>\n",
       "      <td>558913</td>\n",
       "      <td>12944</td>\n",
       "      <td>29113</td>\n",
       "      <td>343492</td>\n",
       "      <td>25465</td>\n",
       "      <td>13925</td>\n",
       "      <td>146918</td>\n",
       "      <td>50229.0</td>\n",
       "      <td>75651.0</td>\n",
       "      <td>86142.0</td>\n",
       "      <td>49432.0</td>\n",
       "      <td>15376.0</td>\n",
       "      <td>5838.0</td>\n",
       "      <td>1965.0</td>\n",
       "      <td>664.0</td>\n",
       "      <td>316.0</td>\n",
       "      <td>533.0</td>\n",
       "    </tr>\n",
       "    <tr>\n",
       "      <th>3</th>\n",
       "      <td>7</td>\n",
       "      <td>Witch Hunter Robin</td>\n",
       "      <td>7.27</td>\n",
       "      <td>Action, Mystery, Police, Supernatural, Drama, ...</td>\n",
       "      <td>Witch Hunter Robin</td>\n",
       "      <td>Witch Hunter ROBIN (ウイッチハンターロビン)</td>\n",
       "      <td>TV</td>\n",
       "      <td>26</td>\n",
       "      <td>Jul 2, 2002 to Dec 24, 2002</td>\n",
       "      <td>Summer 2002</td>\n",
       "      <td>TV Tokyo, Bandai Visual, Dentsu, Victor Entert...</td>\n",
       "      <td>Funimation, Bandai Entertainment</td>\n",
       "      <td>Sunrise</td>\n",
       "      <td>Original</td>\n",
       "      <td>25 min. per ep.</td>\n",
       "      <td>PG-13 - Teens 13 or older</td>\n",
       "      <td>2481.0</td>\n",
       "      <td>1467</td>\n",
       "      <td>94683</td>\n",
       "      <td>587</td>\n",
       "      <td>4300</td>\n",
       "      <td>46165</td>\n",
       "      <td>5121</td>\n",
       "      <td>5378</td>\n",
       "      <td>33719</td>\n",
       "      <td>2182.0</td>\n",
       "      <td>4806.0</td>\n",
       "      <td>10128.0</td>\n",
       "      <td>11618.0</td>\n",
       "      <td>5709.0</td>\n",
       "      <td>2920.0</td>\n",
       "      <td>1083.0</td>\n",
       "      <td>353.0</td>\n",
       "      <td>164.0</td>\n",
       "      <td>131.0</td>\n",
       "    </tr>\n",
       "    <tr>\n",
       "      <th>4</th>\n",
       "      <td>8</td>\n",
       "      <td>Bouken Ou Beet</td>\n",
       "      <td>6.98</td>\n",
       "      <td>Adventure, Fantasy, Shounen, Supernatural</td>\n",
       "      <td>Beet the Vandel Buster</td>\n",
       "      <td>冒険王ビィト</td>\n",
       "      <td>TV</td>\n",
       "      <td>52</td>\n",
       "      <td>Sep 30, 2004 to Sep 29, 2005</td>\n",
       "      <td>Fall 2004</td>\n",
       "      <td>TV Tokyo, Dentsu</td>\n",
       "      <td>Unknown</td>\n",
       "      <td>Toei Animation</td>\n",
       "      <td>Manga</td>\n",
       "      <td>23 min. per ep.</td>\n",
       "      <td>PG - Children</td>\n",
       "      <td>3710.0</td>\n",
       "      <td>4369</td>\n",
       "      <td>13224</td>\n",
       "      <td>18</td>\n",
       "      <td>642</td>\n",
       "      <td>7314</td>\n",
       "      <td>766</td>\n",
       "      <td>1108</td>\n",
       "      <td>3394</td>\n",
       "      <td>312.0</td>\n",
       "      <td>529.0</td>\n",
       "      <td>1242.0</td>\n",
       "      <td>1713.0</td>\n",
       "      <td>1068.0</td>\n",
       "      <td>634.0</td>\n",
       "      <td>265.0</td>\n",
       "      <td>83.0</td>\n",
       "      <td>50.0</td>\n",
       "      <td>27.0</td>\n",
       "    </tr>\n",
       "  </tbody>\n",
       "</table>\n",
       "</div>"
      ],
      "text/plain": [
       "   MAL_ID                             Name Score  \\\n",
       "0       1                     Cowboy Bebop  8.78   \n",
       "1       5  Cowboy Bebop: Tengoku no Tobira  8.39   \n",
       "2       6                           Trigun  8.24   \n",
       "3       7               Witch Hunter Robin  7.27   \n",
       "4       8                   Bouken Ou Beet  6.98   \n",
       "\n",
       "                                              Genres            English name  \\\n",
       "0    Action, Adventure, Comedy, Drama, Sci-Fi, Space            Cowboy Bebop   \n",
       "1              Action, Drama, Mystery, Sci-Fi, Space  Cowboy Bebop:The Movie   \n",
       "2  Action, Sci-Fi, Adventure, Comedy, Drama, Shounen                  Trigun   \n",
       "3  Action, Mystery, Police, Supernatural, Drama, ...      Witch Hunter Robin   \n",
       "4          Adventure, Fantasy, Shounen, Supernatural  Beet the Vandel Buster   \n",
       "\n",
       "                      Japanese name   Type Episodes  \\\n",
       "0                         カウボーイビバップ     TV       26   \n",
       "1                    カウボーイビバップ 天国の扉  Movie        1   \n",
       "2                             トライガン     TV       26   \n",
       "3  Witch Hunter ROBIN (ウイッチハンターロビン)     TV       26   \n",
       "4                            冒険王ビィト     TV       52   \n",
       "\n",
       "                          Aired    Premiered  \\\n",
       "0   Apr 3, 1998 to Apr 24, 1999  Spring 1998   \n",
       "1                   Sep 1, 2001      Unknown   \n",
       "2   Apr 1, 1998 to Sep 30, 1998  Spring 1998   \n",
       "3   Jul 2, 2002 to Dec 24, 2002  Summer 2002   \n",
       "4  Sep 30, 2004 to Sep 29, 2005    Fall 2004   \n",
       "\n",
       "                                           Producers  \\\n",
       "0                                      Bandai Visual   \n",
       "1                             Sunrise, Bandai Visual   \n",
       "2                               Victor Entertainment   \n",
       "3  TV Tokyo, Bandai Visual, Dentsu, Victor Entert...   \n",
       "4                                   TV Tokyo, Dentsu   \n",
       "\n",
       "                              Licensors         Studios    Source  \\\n",
       "0      Funimation, Bandai Entertainment         Sunrise  Original   \n",
       "1           Sony Pictures Entertainment           Bones  Original   \n",
       "2  Funimation, Geneon Entertainment USA        Madhouse     Manga   \n",
       "3      Funimation, Bandai Entertainment         Sunrise  Original   \n",
       "4                               Unknown  Toei Animation     Manga   \n",
       "\n",
       "          Duration                          Rating  Ranked  Popularity  \\\n",
       "0  24 min. per ep.  R - 17+ (violence & profanity)    28.0          39   \n",
       "1    1 hr. 55 min.  R - 17+ (violence & profanity)   159.0         518   \n",
       "2  24 min. per ep.       PG-13 - Teens 13 or older   266.0         201   \n",
       "3  25 min. per ep.       PG-13 - Teens 13 or older  2481.0        1467   \n",
       "4  23 min. per ep.                   PG - Children  3710.0        4369   \n",
       "\n",
       "   Members  Favorites  Watching  Completed  On-Hold  Dropped  Plan to Watch  \\\n",
       "0  1251960      61971    105808     718161    71513    26678         329800   \n",
       "1   273145       1174      4143     208333     1935      770          57964   \n",
       "2   558913      12944     29113     343492    25465    13925         146918   \n",
       "3    94683        587      4300      46165     5121     5378          33719   \n",
       "4    13224         18       642       7314      766     1108           3394   \n",
       "\n",
       "   Score-10   Score-9   Score-8  Score-7  Score-6 Score-5 Score-4 Score-3  \\\n",
       "0  229170.0  182126.0  131625.0  62330.0  20688.0  8904.0  3184.0  1357.0   \n",
       "1   30043.0   49201.0   49505.0  22632.0   5805.0  1877.0   577.0   221.0   \n",
       "2   50229.0   75651.0   86142.0  49432.0  15376.0  5838.0  1965.0   664.0   \n",
       "3    2182.0    4806.0   10128.0  11618.0   5709.0  2920.0  1083.0   353.0   \n",
       "4     312.0     529.0    1242.0   1713.0   1068.0   634.0   265.0    83.0   \n",
       "\n",
       "  Score-2 Score-1  \n",
       "0   741.0  1580.0  \n",
       "1   109.0   379.0  \n",
       "2   316.0   533.0  \n",
       "3   164.0   131.0  \n",
       "4    50.0    27.0  "
      ]
     },
     "execution_count": 3,
     "metadata": {},
     "output_type": "execute_result"
    }
   ],
   "source": [
    "anime_df_no_syn.head(5)"
   ]
  },
  {
   "cell_type": "code",
   "execution_count": 4,
   "metadata": {},
   "outputs": [
    {
     "data": {
      "text/plain": [
       "MAL_ID           0\n",
       "Name             0\n",
       "Score            0\n",
       "Genres           0\n",
       "English name     0\n",
       "Japanese name    0\n",
       "Type             0\n",
       "Episodes         0\n",
       "Aired            0\n",
       "Premiered        0\n",
       "Producers        0\n",
       "Licensors        0\n",
       "Studios          0\n",
       "Source           0\n",
       "Duration         0\n",
       "Rating           0\n",
       "Ranked           0\n",
       "Popularity       0\n",
       "Members          0\n",
       "Favorites        0\n",
       "Watching         0\n",
       "Completed        0\n",
       "On-Hold          0\n",
       "Dropped          0\n",
       "Plan to Watch    0\n",
       "Score-10         0\n",
       "Score-9          0\n",
       "Score-8          0\n",
       "Score-7          0\n",
       "Score-6          0\n",
       "Score-5          0\n",
       "Score-4          0\n",
       "Score-3          0\n",
       "Score-2          0\n",
       "Score-1          0\n",
       "dtype: int64"
      ]
     },
     "execution_count": 4,
     "metadata": {},
     "output_type": "execute_result"
    }
   ],
   "source": [
    "#Checking for any null values\n",
    "anime_df_no_syn.isna().sum()"
   ]
  },
  {
   "cell_type": "code",
   "execution_count": 5,
   "metadata": {},
   "outputs": [
    {
     "name": "stdout",
     "output_type": "stream",
     "text": [
      "<class 'pandas.core.frame.DataFrame'>\n",
      "RangeIndex: 17562 entries, 0 to 17561\n",
      "Data columns (total 35 columns):\n",
      " #   Column         Non-Null Count  Dtype \n",
      "---  ------         --------------  ----- \n",
      " 0   MAL_ID         17562 non-null  int64 \n",
      " 1   Name           17562 non-null  object\n",
      " 2   Score          17562 non-null  object\n",
      " 3   Genres         17562 non-null  object\n",
      " 4   English name   17562 non-null  object\n",
      " 5   Japanese name  17562 non-null  object\n",
      " 6   Type           17562 non-null  object\n",
      " 7   Episodes       17562 non-null  object\n",
      " 8   Aired          17562 non-null  object\n",
      " 9   Premiered      17562 non-null  object\n",
      " 10  Producers      17562 non-null  object\n",
      " 11  Licensors      17562 non-null  object\n",
      " 12  Studios        17562 non-null  object\n",
      " 13  Source         17562 non-null  object\n",
      " 14  Duration       17562 non-null  object\n",
      " 15  Rating         17562 non-null  object\n",
      " 16  Ranked         17562 non-null  object\n",
      " 17  Popularity     17562 non-null  int64 \n",
      " 18  Members        17562 non-null  int64 \n",
      " 19  Favorites      17562 non-null  int64 \n",
      " 20  Watching       17562 non-null  int64 \n",
      " 21  Completed      17562 non-null  int64 \n",
      " 22  On-Hold        17562 non-null  int64 \n",
      " 23  Dropped        17562 non-null  int64 \n",
      " 24  Plan to Watch  17562 non-null  int64 \n",
      " 25  Score-10       17562 non-null  object\n",
      " 26  Score-9        17562 non-null  object\n",
      " 27  Score-8        17562 non-null  object\n",
      " 28  Score-7        17562 non-null  object\n",
      " 29  Score-6        17562 non-null  object\n",
      " 30  Score-5        17562 non-null  object\n",
      " 31  Score-4        17562 non-null  object\n",
      " 32  Score-3        17562 non-null  object\n",
      " 33  Score-2        17562 non-null  object\n",
      " 34  Score-1        17562 non-null  object\n",
      "dtypes: int64(9), object(26)\n",
      "memory usage: 4.7+ MB\n"
     ]
    }
   ],
   "source": [
    "#Checking the DTypes of all columns in the dataframe\n",
    "anime_df_no_syn.info()"
   ]
  },
  {
   "cell_type": "code",
   "execution_count": null,
   "metadata": {},
   "outputs": [],
   "source": []
  },
  {
   "cell_type": "code",
   "execution_count": 6,
   "metadata": {},
   "outputs": [
    {
     "data": {
      "text/html": [
       "<div>\n",
       "<style scoped>\n",
       "    .dataframe tbody tr th:only-of-type {\n",
       "        vertical-align: middle;\n",
       "    }\n",
       "\n",
       "    .dataframe tbody tr th {\n",
       "        vertical-align: top;\n",
       "    }\n",
       "\n",
       "    .dataframe thead th {\n",
       "        text-align: right;\n",
       "    }\n",
       "</style>\n",
       "<table border=\"1\" class=\"dataframe\">\n",
       "  <thead>\n",
       "    <tr style=\"text-align: right;\">\n",
       "      <th></th>\n",
       "      <th>MAL_ID</th>\n",
       "      <th>Popularity</th>\n",
       "      <th>Members</th>\n",
       "      <th>Favorites</th>\n",
       "      <th>Watching</th>\n",
       "      <th>Completed</th>\n",
       "      <th>On-Hold</th>\n",
       "      <th>Dropped</th>\n",
       "      <th>Plan to Watch</th>\n",
       "    </tr>\n",
       "  </thead>\n",
       "  <tbody>\n",
       "    <tr>\n",
       "      <th>count</th>\n",
       "      <td>17562.000000</td>\n",
       "      <td>17562.000000</td>\n",
       "      <td>1.756200e+04</td>\n",
       "      <td>17562.000000</td>\n",
       "      <td>17562.000000</td>\n",
       "      <td>1.756200e+04</td>\n",
       "      <td>17562.000000</td>\n",
       "      <td>17562.000000</td>\n",
       "      <td>17562.000000</td>\n",
       "    </tr>\n",
       "    <tr>\n",
       "      <th>mean</th>\n",
       "      <td>21477.192347</td>\n",
       "      <td>8763.452340</td>\n",
       "      <td>3.465854e+04</td>\n",
       "      <td>457.746270</td>\n",
       "      <td>2231.487758</td>\n",
       "      <td>2.209557e+04</td>\n",
       "      <td>955.049653</td>\n",
       "      <td>1176.599533</td>\n",
       "      <td>8199.831227</td>\n",
       "    </tr>\n",
       "    <tr>\n",
       "      <th>std</th>\n",
       "      <td>14900.093170</td>\n",
       "      <td>5059.327278</td>\n",
       "      <td>1.252821e+05</td>\n",
       "      <td>4063.473313</td>\n",
       "      <td>14046.688133</td>\n",
       "      <td>9.100919e+04</td>\n",
       "      <td>4275.675096</td>\n",
       "      <td>4740.348653</td>\n",
       "      <td>23777.691963</td>\n",
       "    </tr>\n",
       "    <tr>\n",
       "      <th>min</th>\n",
       "      <td>1.000000</td>\n",
       "      <td>0.000000</td>\n",
       "      <td>1.000000e+00</td>\n",
       "      <td>0.000000</td>\n",
       "      <td>0.000000</td>\n",
       "      <td>0.000000e+00</td>\n",
       "      <td>0.000000</td>\n",
       "      <td>0.000000</td>\n",
       "      <td>1.000000</td>\n",
       "    </tr>\n",
       "    <tr>\n",
       "      <th>25%</th>\n",
       "      <td>5953.500000</td>\n",
       "      <td>4383.500000</td>\n",
       "      <td>3.360000e+02</td>\n",
       "      <td>0.000000</td>\n",
       "      <td>13.000000</td>\n",
       "      <td>1.110000e+02</td>\n",
       "      <td>6.000000</td>\n",
       "      <td>37.000000</td>\n",
       "      <td>112.000000</td>\n",
       "    </tr>\n",
       "    <tr>\n",
       "      <th>50%</th>\n",
       "      <td>22820.000000</td>\n",
       "      <td>8762.500000</td>\n",
       "      <td>2.065000e+03</td>\n",
       "      <td>3.000000</td>\n",
       "      <td>73.000000</td>\n",
       "      <td>8.175000e+02</td>\n",
       "      <td>45.000000</td>\n",
       "      <td>77.000000</td>\n",
       "      <td>752.500000</td>\n",
       "    </tr>\n",
       "    <tr>\n",
       "      <th>75%</th>\n",
       "      <td>35624.750000</td>\n",
       "      <td>13145.000000</td>\n",
       "      <td>1.322325e+04</td>\n",
       "      <td>31.000000</td>\n",
       "      <td>522.000000</td>\n",
       "      <td>6.478000e+03</td>\n",
       "      <td>291.750000</td>\n",
       "      <td>271.000000</td>\n",
       "      <td>4135.500000</td>\n",
       "    </tr>\n",
       "    <tr>\n",
       "      <th>max</th>\n",
       "      <td>48492.000000</td>\n",
       "      <td>17565.000000</td>\n",
       "      <td>2.589552e+06</td>\n",
       "      <td>183914.000000</td>\n",
       "      <td>887333.000000</td>\n",
       "      <td>2.182587e+06</td>\n",
       "      <td>187919.000000</td>\n",
       "      <td>174710.000000</td>\n",
       "      <td>425531.000000</td>\n",
       "    </tr>\n",
       "  </tbody>\n",
       "</table>\n",
       "</div>"
      ],
      "text/plain": [
       "             MAL_ID    Popularity       Members      Favorites       Watching  \\\n",
       "count  17562.000000  17562.000000  1.756200e+04   17562.000000   17562.000000   \n",
       "mean   21477.192347   8763.452340  3.465854e+04     457.746270    2231.487758   \n",
       "std    14900.093170   5059.327278  1.252821e+05    4063.473313   14046.688133   \n",
       "min        1.000000      0.000000  1.000000e+00       0.000000       0.000000   \n",
       "25%     5953.500000   4383.500000  3.360000e+02       0.000000      13.000000   \n",
       "50%    22820.000000   8762.500000  2.065000e+03       3.000000      73.000000   \n",
       "75%    35624.750000  13145.000000  1.322325e+04      31.000000     522.000000   \n",
       "max    48492.000000  17565.000000  2.589552e+06  183914.000000  887333.000000   \n",
       "\n",
       "          Completed        On-Hold        Dropped  Plan to Watch  \n",
       "count  1.756200e+04   17562.000000   17562.000000   17562.000000  \n",
       "mean   2.209557e+04     955.049653    1176.599533    8199.831227  \n",
       "std    9.100919e+04    4275.675096    4740.348653   23777.691963  \n",
       "min    0.000000e+00       0.000000       0.000000       1.000000  \n",
       "25%    1.110000e+02       6.000000      37.000000     112.000000  \n",
       "50%    8.175000e+02      45.000000      77.000000     752.500000  \n",
       "75%    6.478000e+03     291.750000     271.000000    4135.500000  \n",
       "max    2.182587e+06  187919.000000  174710.000000  425531.000000  "
      ]
     },
     "execution_count": 6,
     "metadata": {},
     "output_type": "execute_result"
    }
   ],
   "source": [
    "#Checking for any extreme values\n",
    "anime_df_no_syn.describe()"
   ]
  },
  {
   "cell_type": "code",
   "execution_count": null,
   "metadata": {},
   "outputs": [],
   "source": []
  },
  {
   "cell_type": "code",
   "execution_count": null,
   "metadata": {},
   "outputs": [],
   "source": []
  },
  {
   "cell_type": "markdown",
   "metadata": {},
   "source": [
    "### Creating a column for Cleaned names"
   ]
  },
  {
   "cell_type": "markdown",
   "metadata": {},
   "source": [
    "To have a name for every show in the dataframe, I created a new column called Cleaned_Name, using a list comprehension, to iterate through the English name column and use the english name unless the name is 'Unknown\", then it uses the "
   ]
  },
  {
   "cell_type": "code",
   "execution_count": 8,
   "metadata": {},
   "outputs": [],
   "source": [
    "anime_df_no_syn['Cleaned_Name'] = [anime_df_no_syn['English name'][x] if anime_df_no_syn['English name'][x] != 'Unknown' \n",
    "                else (anime_df_no_syn['Name'][x] if anime_df_no_syn['Name'][x] != 'Unknown'\n",
    "                else anime_df_no_syn['Japanese name']) for x in range(len(anime_df_no_syn['English name']))]"
   ]
  },
  {
   "cell_type": "code",
   "execution_count": 9,
   "metadata": {},
   "outputs": [
    {
     "data": {
      "text/html": [
       "<div>\n",
       "<style scoped>\n",
       "    .dataframe tbody tr th:only-of-type {\n",
       "        vertical-align: middle;\n",
       "    }\n",
       "\n",
       "    .dataframe tbody tr th {\n",
       "        vertical-align: top;\n",
       "    }\n",
       "\n",
       "    .dataframe thead th {\n",
       "        text-align: right;\n",
       "    }\n",
       "</style>\n",
       "<table border=\"1\" class=\"dataframe\">\n",
       "  <thead>\n",
       "    <tr style=\"text-align: right;\">\n",
       "      <th></th>\n",
       "      <th>Name</th>\n",
       "      <th>English name</th>\n",
       "      <th>Japanese name</th>\n",
       "      <th>Cleaned_Name</th>\n",
       "    </tr>\n",
       "  </thead>\n",
       "  <tbody>\n",
       "    <tr>\n",
       "      <th>0</th>\n",
       "      <td>Cowboy Bebop</td>\n",
       "      <td>Cowboy Bebop</td>\n",
       "      <td>カウボーイビバップ</td>\n",
       "      <td>Cowboy Bebop</td>\n",
       "    </tr>\n",
       "    <tr>\n",
       "      <th>1</th>\n",
       "      <td>Cowboy Bebop: Tengoku no Tobira</td>\n",
       "      <td>Cowboy Bebop:The Movie</td>\n",
       "      <td>カウボーイビバップ 天国の扉</td>\n",
       "      <td>Cowboy Bebop:The Movie</td>\n",
       "    </tr>\n",
       "    <tr>\n",
       "      <th>2</th>\n",
       "      <td>Trigun</td>\n",
       "      <td>Trigun</td>\n",
       "      <td>トライガン</td>\n",
       "      <td>Trigun</td>\n",
       "    </tr>\n",
       "    <tr>\n",
       "      <th>3</th>\n",
       "      <td>Witch Hunter Robin</td>\n",
       "      <td>Witch Hunter Robin</td>\n",
       "      <td>Witch Hunter ROBIN (ウイッチハンターロビン)</td>\n",
       "      <td>Witch Hunter Robin</td>\n",
       "    </tr>\n",
       "    <tr>\n",
       "      <th>4</th>\n",
       "      <td>Bouken Ou Beet</td>\n",
       "      <td>Beet the Vandel Buster</td>\n",
       "      <td>冒険王ビィト</td>\n",
       "      <td>Beet the Vandel Buster</td>\n",
       "    </tr>\n",
       "  </tbody>\n",
       "</table>\n",
       "</div>"
      ],
      "text/plain": [
       "                              Name            English name  \\\n",
       "0                     Cowboy Bebop            Cowboy Bebop   \n",
       "1  Cowboy Bebop: Tengoku no Tobira  Cowboy Bebop:The Movie   \n",
       "2                           Trigun                  Trigun   \n",
       "3               Witch Hunter Robin      Witch Hunter Robin   \n",
       "4                   Bouken Ou Beet  Beet the Vandel Buster   \n",
       "\n",
       "                      Japanese name            Cleaned_Name  \n",
       "0                         カウボーイビバップ            Cowboy Bebop  \n",
       "1                    カウボーイビバップ 天国の扉  Cowboy Bebop:The Movie  \n",
       "2                             トライガン                  Trigun  \n",
       "3  Witch Hunter ROBIN (ウイッチハンターロビン)      Witch Hunter Robin  \n",
       "4                            冒険王ビィト  Beet the Vandel Buster  "
      ]
     },
     "execution_count": 9,
     "metadata": {},
     "output_type": "execute_result"
    }
   ],
   "source": [
    "anime_df_no_syn[['Name', 'English name', 'Japanese name', 'Cleaned_Name']].head()"
   ]
  },
  {
   "cell_type": "markdown",
   "metadata": {},
   "source": [
    "### Changing Aired column to Datetime"
   ]
  },
  {
   "cell_type": "code",
   "execution_count": 10,
   "metadata": {},
   "outputs": [
    {
     "data": {
      "text/plain": [
       "'1998'"
      ]
     },
     "execution_count": 10,
     "metadata": {},
     "output_type": "execute_result"
    }
   ],
   "source": [
    "anime_df_no_syn['Aired'][0][7:11]"
   ]
  },
  {
   "cell_type": "code",
   "execution_count": 11,
   "metadata": {},
   "outputs": [
    {
     "data": {
      "text/plain": [
       "['1998', '1999']"
      ]
     },
     "execution_count": 11,
     "metadata": {},
     "output_type": "execute_result"
    }
   ],
   "source": [
    "pattern = '\\d{4}'\n",
    "re.findall(pattern, anime_df_no_syn['Aired'][0])"
   ]
  },
  {
   "cell_type": "code",
   "execution_count": 12,
   "metadata": {},
   "outputs": [],
   "source": [
    "anime_df_no_syn['Year_Premiered'] = [re.findall(pattern, anime_df_no_syn['Aired'][x]) for x in range(len(anime_df_no_syn['Aired']))]\n",
    "\n",
    "\n"
   ]
  },
  {
   "cell_type": "code",
   "execution_count": 13,
   "metadata": {},
   "outputs": [],
   "source": [
    "anime_df_no_syn['Year_Premiered'] = [['Unknown'] if len(anime_df_no_syn['Year_Premiered'][x]) == 0\n",
    "                                     else anime_df_no_syn['Year_Premiered'][x]\n",
    "                                     for x in range(len(anime_df_no_syn['Year_Premiered']))]"
   ]
  },
  {
   "cell_type": "code",
   "execution_count": 14,
   "metadata": {},
   "outputs": [],
   "source": [
    "anime_df_no_syn['Year_Premiered'] = [anime_df_no_syn['Year_Premiered'][x][0] for x in range(len(anime_df_no_syn['Year_Premiered']))]"
   ]
  },
  {
   "cell_type": "code",
   "execution_count": 687,
   "metadata": {},
   "outputs": [],
   "source": [
    "anime_df_no_syn['Year_Premiered'] = [int(x) if x != 'Unknown' else x for x in anime_df_no_syn['Year_Premiered']]"
   ]
  },
  {
   "cell_type": "code",
   "execution_count": 694,
   "metadata": {},
   "outputs": [
    {
     "data": {
      "image/png": "[encoded data removed]",
      "text/plain": [
       "<Figure size 432x288 with 1 Axes>"
      ]
     },
     "metadata": {
      "needs_background": "light"
     },
     "output_type": "display_data"
    }
   ],
   "source": [
    "anime_df_no_syn[anime_df_no_syn['Year_Premiered']!='Unknown'].Year_Premiered.hist();"
   ]
  },
  {
   "cell_type": "code",
   "execution_count": 698,
   "metadata": {
    "scrolled": false
   },
   "outputs": [
    {
     "data": {
      "text/html": [
       "<div>\n",
       "<style scoped>\n",
       "    .dataframe tbody tr th:only-of-type {\n",
       "        vertical-align: middle;\n",
       "    }\n",
       "\n",
       "    .dataframe tbody tr th {\n",
       "        vertical-align: top;\n",
       "    }\n",
       "\n",
       "    .dataframe thead th {\n",
       "        text-align: right;\n",
       "    }\n",
       "</style>\n",
       "<table border=\"1\" class=\"dataframe\">\n",
       "  <thead>\n",
       "    <tr style=\"text-align: right;\">\n",
       "      <th></th>\n",
       "      <th>MAL_ID</th>\n",
       "      <th>Name</th>\n",
       "      <th>Score</th>\n",
       "      <th>Genres</th>\n",
       "      <th>English name</th>\n",
       "      <th>Japanese name</th>\n",
       "      <th>Type</th>\n",
       "      <th>Episodes</th>\n",
       "      <th>Aired</th>\n",
       "      <th>Premiered</th>\n",
       "      <th>Producers</th>\n",
       "      <th>Licensors</th>\n",
       "      <th>Studios</th>\n",
       "      <th>Source</th>\n",
       "      <th>Duration</th>\n",
       "      <th>Rating</th>\n",
       "      <th>Ranked</th>\n",
       "      <th>Popularity</th>\n",
       "      <th>Members</th>\n",
       "      <th>Favorites</th>\n",
       "      <th>Watching</th>\n",
       "      <th>Completed</th>\n",
       "      <th>On-Hold</th>\n",
       "      <th>Dropped</th>\n",
       "      <th>Plan to Watch</th>\n",
       "      <th>Score-10</th>\n",
       "      <th>Score-9</th>\n",
       "      <th>Score-8</th>\n",
       "      <th>Score-7</th>\n",
       "      <th>Score-6</th>\n",
       "      <th>Score-5</th>\n",
       "      <th>Score-4</th>\n",
       "      <th>Score-3</th>\n",
       "      <th>Score-2</th>\n",
       "      <th>Score-1</th>\n",
       "      <th>Cleaned_Name</th>\n",
       "      <th>Year_Premiered</th>\n",
       "      <th>Duration_in_Minutes</th>\n",
       "    </tr>\n",
       "  </thead>\n",
       "  <tbody>\n",
       "    <tr>\n",
       "      <th>165</th>\n",
       "      <td>188</td>\n",
       "      <td>Gosenzo San'e</td>\n",
       "      <td>6.11</td>\n",
       "      <td>Comedy, Hentai, Mystery, Supernatural</td>\n",
       "      <td>Masquerade</td>\n",
       "      <td>御先祖賛江</td>\n",
       "      <td>OVA</td>\n",
       "      <td>4</td>\n",
       "      <td>Sep 25, 1998 to Mar 25, 1999</td>\n",
       "      <td>Unknown</td>\n",
       "      <td>AIC, Green Bunny, BEAM Entertainment</td>\n",
       "      <td>Unknown</td>\n",
       "      <td>Unknown</td>\n",
       "      <td>Original</td>\n",
       "      <td>[30, min., per, ep.]</td>\n",
       "      <td>Rx - Hentai</td>\n",
       "      <td>Unknown</td>\n",
       "      <td>8469</td>\n",
       "      <td>2308</td>\n",
       "      <td>4</td>\n",
       "      <td>148</td>\n",
       "      <td>1072</td>\n",
       "      <td>100</td>\n",
       "      <td>122</td>\n",
       "      <td>866</td>\n",
       "      <td>51.0</td>\n",
       "      <td>42.0</td>\n",
       "      <td>89.0</td>\n",
       "      <td>168.0</td>\n",
       "      <td>159.0</td>\n",
       "      <td>132.0</td>\n",
       "      <td>59.0</td>\n",
       "      <td>19.0</td>\n",
       "      <td>20.0</td>\n",
       "      <td>33.0</td>\n",
       "      <td>Masquerade</td>\n",
       "      <td>1998</td>\n",
       "      <td>30.000000</td>\n",
       "    </tr>\n",
       "    <tr>\n",
       "      <th>180</th>\n",
       "      <td>203</td>\n",
       "      <td>Words Worth</td>\n",
       "      <td>6.75</td>\n",
       "      <td>Adventure, Hentai, Demons, Magic, Fantasy</td>\n",
       "      <td>Unknown</td>\n",
       "      <td>ワーズ・ワース</td>\n",
       "      <td>OVA</td>\n",
       "      <td>5</td>\n",
       "      <td>Aug 25, 1999 to Nov 25, 2000</td>\n",
       "      <td>Unknown</td>\n",
       "      <td>Green Bunny</td>\n",
       "      <td>NuTech Digital</td>\n",
       "      <td>Arms</td>\n",
       "      <td>Visual novel</td>\n",
       "      <td>[30, min., per, ep.]</td>\n",
       "      <td>Rx - Hentai</td>\n",
       "      <td>Unknown</td>\n",
       "      <td>5518</td>\n",
       "      <td>7447</td>\n",
       "      <td>38</td>\n",
       "      <td>391</td>\n",
       "      <td>4406</td>\n",
       "      <td>264</td>\n",
       "      <td>265</td>\n",
       "      <td>2121</td>\n",
       "      <td>211.0</td>\n",
       "      <td>291.0</td>\n",
       "      <td>606.0</td>\n",
       "      <td>871.0</td>\n",
       "      <td>577.0</td>\n",
       "      <td>331.0</td>\n",
       "      <td>149.0</td>\n",
       "      <td>69.0</td>\n",
       "      <td>51.0</td>\n",
       "      <td>40.0</td>\n",
       "      <td>Words Worth</td>\n",
       "      <td>1999</td>\n",
       "      <td>30.000000</td>\n",
       "    </tr>\n",
       "    <tr>\n",
       "      <th>188</th>\n",
       "      <td>211</td>\n",
       "      <td>Pure Mail</td>\n",
       "      <td>6.26</td>\n",
       "      <td>Hentai</td>\n",
       "      <td>Unknown</td>\n",
       "      <td>ピュアメール</td>\n",
       "      <td>OVA</td>\n",
       "      <td>2</td>\n",
       "      <td>Sep 25, 2001 to Dec 21, 2001</td>\n",
       "      <td>Unknown</td>\n",
       "      <td>Pink Pineapple, Green Bunny</td>\n",
       "      <td>Adult Source Media</td>\n",
       "      <td>Unknown</td>\n",
       "      <td>Visual novel</td>\n",
       "      <td>[30, min., per, ep.]</td>\n",
       "      <td>Rx - Hentai</td>\n",
       "      <td>Unknown</td>\n",
       "      <td>7731</td>\n",
       "      <td>3114</td>\n",
       "      <td>14</td>\n",
       "      <td>177</td>\n",
       "      <td>1834</td>\n",
       "      <td>112</td>\n",
       "      <td>122</td>\n",
       "      <td>869</td>\n",
       "      <td>64.0</td>\n",
       "      <td>71.0</td>\n",
       "      <td>165.0</td>\n",
       "      <td>268.0</td>\n",
       "      <td>310.0</td>\n",
       "      <td>175.0</td>\n",
       "      <td>86.0</td>\n",
       "      <td>43.0</td>\n",
       "      <td>25.0</td>\n",
       "      <td>26.0</td>\n",
       "      <td>Pure Mail</td>\n",
       "      <td>2001</td>\n",
       "      <td>30.000000</td>\n",
       "    </tr>\n",
       "    <tr>\n",
       "      <th>190</th>\n",
       "      <td>213</td>\n",
       "      <td>Pia Carrot e Youkoso!!</td>\n",
       "      <td>6.02</td>\n",
       "      <td>Comedy, Romance, Hentai</td>\n",
       "      <td>Welcome to Pia Carrot</td>\n",
       "      <td>Piaキャロットへようこそ!!</td>\n",
       "      <td>OVA</td>\n",
       "      <td>3</td>\n",
       "      <td>Oct 24, 1997 to Apr 24, 1998</td>\n",
       "      <td>Unknown</td>\n",
       "      <td>NuTech Digital</td>\n",
       "      <td>Unknown</td>\n",
       "      <td>Unknown</td>\n",
       "      <td>Unknown</td>\n",
       "      <td>[29, min., per, ep.]</td>\n",
       "      <td>Rx - Hentai</td>\n",
       "      <td>Unknown</td>\n",
       "      <td>7767</td>\n",
       "      <td>3074</td>\n",
       "      <td>5</td>\n",
       "      <td>156</td>\n",
       "      <td>1715</td>\n",
       "      <td>106</td>\n",
       "      <td>139</td>\n",
       "      <td>958</td>\n",
       "      <td>50.0</td>\n",
       "      <td>48.0</td>\n",
       "      <td>114.0</td>\n",
       "      <td>240.0</td>\n",
       "      <td>281.0</td>\n",
       "      <td>196.0</td>\n",
       "      <td>89.0</td>\n",
       "      <td>54.0</td>\n",
       "      <td>18.0</td>\n",
       "      <td>30.0</td>\n",
       "      <td>Welcome to Pia Carrot</td>\n",
       "      <td>1997</td>\n",
       "      <td>29.000000</td>\n",
       "    </tr>\n",
       "    <tr>\n",
       "      <th>191</th>\n",
       "      <td>214</td>\n",
       "      <td>Pia Carrot e Youkoso!! 2</td>\n",
       "      <td>6.15</td>\n",
       "      <td>Comedy, Romance, Hentai</td>\n",
       "      <td>Welcome To Pia Carrot 2</td>\n",
       "      <td>Piaキャロットへようこそ!! 2</td>\n",
       "      <td>OVA</td>\n",
       "      <td>3</td>\n",
       "      <td>Oct 23, 1998 to Apr 23, 1999</td>\n",
       "      <td>Unknown</td>\n",
       "      <td>Pink Pineapple</td>\n",
       "      <td>Unknown</td>\n",
       "      <td>Unknown</td>\n",
       "      <td>Unknown</td>\n",
       "      <td>[30, min., per, ep.]</td>\n",
       "      <td>Rx - Hentai</td>\n",
       "      <td>Unknown</td>\n",
       "      <td>8715</td>\n",
       "      <td>2097</td>\n",
       "      <td>4</td>\n",
       "      <td>99</td>\n",
       "      <td>1247</td>\n",
       "      <td>65</td>\n",
       "      <td>100</td>\n",
       "      <td>586</td>\n",
       "      <td>42.0</td>\n",
       "      <td>40.0</td>\n",
       "      <td>97.0</td>\n",
       "      <td>169.0</td>\n",
       "      <td>197.0</td>\n",
       "      <td>119.0</td>\n",
       "      <td>62.0</td>\n",
       "      <td>23.0</td>\n",
       "      <td>11.0</td>\n",
       "      <td>28.0</td>\n",
       "      <td>Welcome To Pia Carrot 2</td>\n",
       "      <td>1998</td>\n",
       "      <td>30.000000</td>\n",
       "    </tr>\n",
       "    <tr>\n",
       "      <th>...</th>\n",
       "      <td>...</td>\n",
       "      <td>...</td>\n",
       "      <td>...</td>\n",
       "      <td>...</td>\n",
       "      <td>...</td>\n",
       "      <td>...</td>\n",
       "      <td>...</td>\n",
       "      <td>...</td>\n",
       "      <td>...</td>\n",
       "      <td>...</td>\n",
       "      <td>...</td>\n",
       "      <td>...</td>\n",
       "      <td>...</td>\n",
       "      <td>...</td>\n",
       "      <td>...</td>\n",
       "      <td>...</td>\n",
       "      <td>...</td>\n",
       "      <td>...</td>\n",
       "      <td>...</td>\n",
       "      <td>...</td>\n",
       "      <td>...</td>\n",
       "      <td>...</td>\n",
       "      <td>...</td>\n",
       "      <td>...</td>\n",
       "      <td>...</td>\n",
       "      <td>...</td>\n",
       "      <td>...</td>\n",
       "      <td>...</td>\n",
       "      <td>...</td>\n",
       "      <td>...</td>\n",
       "      <td>...</td>\n",
       "      <td>...</td>\n",
       "      <td>...</td>\n",
       "      <td>...</td>\n",
       "      <td>...</td>\n",
       "      <td>...</td>\n",
       "      <td>...</td>\n",
       "      <td>...</td>\n",
       "    </tr>\n",
       "    <tr>\n",
       "      <th>17358</th>\n",
       "      <td>44192</td>\n",
       "      <td>Kimi ga Suki. The Animation</td>\n",
       "      <td>6.83</td>\n",
       "      <td>Hentai</td>\n",
       "      <td>Unknown</td>\n",
       "      <td>君が好き. THE ANIMATION</td>\n",
       "      <td>OVA</td>\n",
       "      <td>2</td>\n",
       "      <td>Jan 29, 2021 to Mar 26, 2021</td>\n",
       "      <td>Unknown</td>\n",
       "      <td>Pink Pineapple</td>\n",
       "      <td>Unknown</td>\n",
       "      <td>Seven</td>\n",
       "      <td>Manga</td>\n",
       "      <td>[Unknown]</td>\n",
       "      <td>Rx - Hentai</td>\n",
       "      <td>Unknown</td>\n",
       "      <td>8068</td>\n",
       "      <td>2745</td>\n",
       "      <td>16</td>\n",
       "      <td>1235</td>\n",
       "      <td>5</td>\n",
       "      <td>273</td>\n",
       "      <td>87</td>\n",
       "      <td>1145</td>\n",
       "      <td>85.0</td>\n",
       "      <td>78.0</td>\n",
       "      <td>139.0</td>\n",
       "      <td>221.0</td>\n",
       "      <td>165.0</td>\n",
       "      <td>71.0</td>\n",
       "      <td>26.0</td>\n",
       "      <td>22.0</td>\n",
       "      <td>11.0</td>\n",
       "      <td>16.0</td>\n",
       "      <td>Kimi ga Suki. The Animation</td>\n",
       "      <td>2021</td>\n",
       "      <td>28.504771</td>\n",
       "    </tr>\n",
       "    <tr>\n",
       "      <th>17359</th>\n",
       "      <td>44193</td>\n",
       "      <td>Ano Ko no Kawari ni Suki na Dake</td>\n",
       "      <td>5.91</td>\n",
       "      <td>Hentai</td>\n",
       "      <td>Unknown</td>\n",
       "      <td>実娘[あの子]の代わりに好きなだけ</td>\n",
       "      <td>OVA</td>\n",
       "      <td>2</td>\n",
       "      <td>Dec 18, 2020 to ?</td>\n",
       "      <td>Unknown</td>\n",
       "      <td>Unknown</td>\n",
       "      <td>Unknown</td>\n",
       "      <td>Unknown</td>\n",
       "      <td>Manga</td>\n",
       "      <td>[20, min., per, ep.]</td>\n",
       "      <td>Rx - Hentai</td>\n",
       "      <td>Unknown</td>\n",
       "      <td>10274</td>\n",
       "      <td>1097</td>\n",
       "      <td>4</td>\n",
       "      <td>605</td>\n",
       "      <td>5</td>\n",
       "      <td>175</td>\n",
       "      <td>69</td>\n",
       "      <td>243</td>\n",
       "      <td>41.0</td>\n",
       "      <td>13.0</td>\n",
       "      <td>37.0</td>\n",
       "      <td>81.0</td>\n",
       "      <td>97.0</td>\n",
       "      <td>55.0</td>\n",
       "      <td>39.0</td>\n",
       "      <td>21.0</td>\n",
       "      <td>9.0</td>\n",
       "      <td>12.0</td>\n",
       "      <td>Ano Ko no Kawari ni Suki na Dake</td>\n",
       "      <td>2020</td>\n",
       "      <td>20.000000</td>\n",
       "    </tr>\n",
       "    <tr>\n",
       "      <th>17360</th>\n",
       "      <td>44194</td>\n",
       "      <td>Haitoku no Kyoukai</td>\n",
       "      <td>6.18</td>\n",
       "      <td>Hentai</td>\n",
       "      <td>Unknown</td>\n",
       "      <td>背徳の境界</td>\n",
       "      <td>OVA</td>\n",
       "      <td>Unknown</td>\n",
       "      <td>Jan 29, 2021 to ?</td>\n",
       "      <td>Unknown</td>\n",
       "      <td>Unknown</td>\n",
       "      <td>Unknown</td>\n",
       "      <td>Unknown</td>\n",
       "      <td>Original</td>\n",
       "      <td>[Unknown]</td>\n",
       "      <td>Rx - Hentai</td>\n",
       "      <td>Unknown</td>\n",
       "      <td>10039</td>\n",
       "      <td>1226</td>\n",
       "      <td>3</td>\n",
       "      <td>520</td>\n",
       "      <td>5</td>\n",
       "      <td>174</td>\n",
       "      <td>66</td>\n",
       "      <td>461</td>\n",
       "      <td>22.0</td>\n",
       "      <td>17.0</td>\n",
       "      <td>36.0</td>\n",
       "      <td>80.0</td>\n",
       "      <td>79.0</td>\n",
       "      <td>48.0</td>\n",
       "      <td>18.0</td>\n",
       "      <td>11.0</td>\n",
       "      <td>10.0</td>\n",
       "      <td>6.0</td>\n",
       "      <td>Haitoku no Kyoukai</td>\n",
       "      <td>2021</td>\n",
       "      <td>28.504771</td>\n",
       "    </tr>\n",
       "    <tr>\n",
       "      <th>17366</th>\n",
       "      <td>44211</td>\n",
       "      <td>Rikujoubu Joshi wa Ore no Nama Onaho!!! The An...</td>\n",
       "      <td>Unknown</td>\n",
       "      <td>Hentai</td>\n",
       "      <td>Unknown</td>\n",
       "      <td>陸上部女子は俺の生オナホ!!! The Animation</td>\n",
       "      <td>OVA</td>\n",
       "      <td>2</td>\n",
       "      <td>Feb 26, 2021 to Apr 30, 2021</td>\n",
       "      <td>Unknown</td>\n",
       "      <td>Unknown</td>\n",
       "      <td>Unknown</td>\n",
       "      <td>Unknown</td>\n",
       "      <td>Digital manga</td>\n",
       "      <td>[20, min., per, ep.]</td>\n",
       "      <td>Rx - Hentai</td>\n",
       "      <td>Unknown</td>\n",
       "      <td>11168</td>\n",
       "      <td>755</td>\n",
       "      <td>5</td>\n",
       "      <td>122</td>\n",
       "      <td>0</td>\n",
       "      <td>52</td>\n",
       "      <td>21</td>\n",
       "      <td>560</td>\n",
       "      <td>6.0</td>\n",
       "      <td>3.0</td>\n",
       "      <td>5.0</td>\n",
       "      <td>11.0</td>\n",
       "      <td>16.0</td>\n",
       "      <td>8.0</td>\n",
       "      <td>9.0</td>\n",
       "      <td>3.0</td>\n",
       "      <td>1.0</td>\n",
       "      <td>1.0</td>\n",
       "      <td>Rikujoubu Joshi wa Ore no Nama Onaho!!! The An...</td>\n",
       "      <td>2021</td>\n",
       "      <td>20.000000</td>\n",
       "    </tr>\n",
       "    <tr>\n",
       "      <th>17545</th>\n",
       "      <td>48422</td>\n",
       "      <td>Kazoku: Haha to Shimai no Kyousei</td>\n",
       "      <td>Unknown</td>\n",
       "      <td>Hentai</td>\n",
       "      <td>Unknown</td>\n",
       "      <td>家属 ~母と姉妹の嬌声~</td>\n",
       "      <td>OVA</td>\n",
       "      <td>Unknown</td>\n",
       "      <td>May 28, 2021 to ?</td>\n",
       "      <td>Unknown</td>\n",
       "      <td>Unknown</td>\n",
       "      <td>Unknown</td>\n",
       "      <td>Unknown</td>\n",
       "      <td>Visual novel</td>\n",
       "      <td>[20, min.]</td>\n",
       "      <td>Rx - Hentai</td>\n",
       "      <td>Unknown</td>\n",
       "      <td>15694</td>\n",
       "      <td>161</td>\n",
       "      <td>1</td>\n",
       "      <td>0</td>\n",
       "      <td>0</td>\n",
       "      <td>0</td>\n",
       "      <td>0</td>\n",
       "      <td>161</td>\n",
       "      <td>Unknown</td>\n",
       "      <td>Unknown</td>\n",
       "      <td>Unknown</td>\n",
       "      <td>Unknown</td>\n",
       "      <td>Unknown</td>\n",
       "      <td>Unknown</td>\n",
       "      <td>Unknown</td>\n",
       "      <td>Unknown</td>\n",
       "      <td>Unknown</td>\n",
       "      <td>Unknown</td>\n",
       "      <td>Kazoku: Haha to Shimai no Kyousei</td>\n",
       "      <td>2021</td>\n",
       "      <td>20.000000</td>\n",
       "    </tr>\n",
       "  </tbody>\n",
       "</table>\n",
       "<p>1348 rows × 38 columns</p>\n",
       "</div>"
      ],
      "text/plain": [
       "       MAL_ID                                               Name    Score  \\\n",
       "165       188                                      Gosenzo San'e     6.11   \n",
       "180       203                                        Words Worth     6.75   \n",
       "188       211                                          Pure Mail     6.26   \n",
       "190       213                             Pia Carrot e Youkoso!!     6.02   \n",
       "191       214                           Pia Carrot e Youkoso!! 2     6.15   \n",
       "...       ...                                                ...      ...   \n",
       "17358   44192                        Kimi ga Suki. The Animation     6.83   \n",
       "17359   44193                   Ano Ko no Kawari ni Suki na Dake     5.91   \n",
       "17360   44194                                 Haitoku no Kyoukai     6.18   \n",
       "17366   44211  Rikujoubu Joshi wa Ore no Nama Onaho!!! The An...  Unknown   \n",
       "17545   48422                  Kazoku: Haha to Shimai no Kyousei  Unknown   \n",
       "\n",
       "                                          Genres             English name  \\\n",
       "165        Comedy, Hentai, Mystery, Supernatural               Masquerade   \n",
       "180    Adventure, Hentai, Demons, Magic, Fantasy                  Unknown   \n",
       "188                                       Hentai                  Unknown   \n",
       "190                      Comedy, Romance, Hentai    Welcome to Pia Carrot   \n",
       "191                      Comedy, Romance, Hentai  Welcome To Pia Carrot 2   \n",
       "...                                          ...                      ...   \n",
       "17358                                     Hentai                  Unknown   \n",
       "17359                                     Hentai                  Unknown   \n",
       "17360                                     Hentai                  Unknown   \n",
       "17366                                     Hentai                  Unknown   \n",
       "17545                                     Hentai                  Unknown   \n",
       "\n",
       "                       Japanese name Type Episodes  \\\n",
       "165                            御先祖賛江  OVA        4   \n",
       "180                          ワーズ・ワース  OVA        5   \n",
       "188                           ピュアメール  OVA        2   \n",
       "190                  Piaキャロットへようこそ!!  OVA        3   \n",
       "191                Piaキャロットへようこそ!! 2  OVA        3   \n",
       "...                              ...  ...      ...   \n",
       "17358            君が好き. THE ANIMATION  OVA        2   \n",
       "17359              実娘[あの子]の代わりに好きなだけ  OVA        2   \n",
       "17360                          背徳の境界  OVA  Unknown   \n",
       "17366  陸上部女子は俺の生オナホ!!! The Animation  OVA        2   \n",
       "17545                   家属 ~母と姉妹の嬌声~  OVA  Unknown   \n",
       "\n",
       "                              Aired Premiered  \\\n",
       "165    Sep 25, 1998 to Mar 25, 1999   Unknown   \n",
       "180    Aug 25, 1999 to Nov 25, 2000   Unknown   \n",
       "188    Sep 25, 2001 to Dec 21, 2001   Unknown   \n",
       "190    Oct 24, 1997 to Apr 24, 1998   Unknown   \n",
       "191    Oct 23, 1998 to Apr 23, 1999   Unknown   \n",
       "...                             ...       ...   \n",
       "17358  Jan 29, 2021 to Mar 26, 2021   Unknown   \n",
       "17359             Dec 18, 2020 to ?   Unknown   \n",
       "17360             Jan 29, 2021 to ?   Unknown   \n",
       "17366  Feb 26, 2021 to Apr 30, 2021   Unknown   \n",
       "17545             May 28, 2021 to ?   Unknown   \n",
       "\n",
       "                                  Producers           Licensors  Studios  \\\n",
       "165    AIC, Green Bunny, BEAM Entertainment             Unknown  Unknown   \n",
       "180                             Green Bunny      NuTech Digital     Arms   \n",
       "188             Pink Pineapple, Green Bunny  Adult Source Media  Unknown   \n",
       "190                          NuTech Digital             Unknown  Unknown   \n",
       "191                          Pink Pineapple             Unknown  Unknown   \n",
       "...                                     ...                 ...      ...   \n",
       "17358                        Pink Pineapple             Unknown    Seven   \n",
       "17359                               Unknown             Unknown  Unknown   \n",
       "17360                               Unknown             Unknown  Unknown   \n",
       "17366                               Unknown             Unknown  Unknown   \n",
       "17545                               Unknown             Unknown  Unknown   \n",
       "\n",
       "              Source              Duration       Rating   Ranked  Popularity  \\\n",
       "165         Original  [30, min., per, ep.]  Rx - Hentai  Unknown        8469   \n",
       "180     Visual novel  [30, min., per, ep.]  Rx - Hentai  Unknown        5518   \n",
       "188     Visual novel  [30, min., per, ep.]  Rx - Hentai  Unknown        7731   \n",
       "190          Unknown  [29, min., per, ep.]  Rx - Hentai  Unknown        7767   \n",
       "191          Unknown  [30, min., per, ep.]  Rx - Hentai  Unknown        8715   \n",
       "...              ...                   ...          ...      ...         ...   \n",
       "17358          Manga             [Unknown]  Rx - Hentai  Unknown        8068   \n",
       "17359          Manga  [20, min., per, ep.]  Rx - Hentai  Unknown       10274   \n",
       "17360       Original             [Unknown]  Rx - Hentai  Unknown       10039   \n",
       "17366  Digital manga  [20, min., per, ep.]  Rx - Hentai  Unknown       11168   \n",
       "17545   Visual novel            [20, min.]  Rx - Hentai  Unknown       15694   \n",
       "\n",
       "       Members  Favorites  Watching  Completed  On-Hold  Dropped  \\\n",
       "165       2308          4       148       1072      100      122   \n",
       "180       7447         38       391       4406      264      265   \n",
       "188       3114         14       177       1834      112      122   \n",
       "190       3074          5       156       1715      106      139   \n",
       "191       2097          4        99       1247       65      100   \n",
       "...        ...        ...       ...        ...      ...      ...   \n",
       "17358     2745         16      1235          5      273       87   \n",
       "17359     1097          4       605          5      175       69   \n",
       "17360     1226          3       520          5      174       66   \n",
       "17366      755          5       122          0       52       21   \n",
       "17545      161          1         0          0        0        0   \n",
       "\n",
       "       Plan to Watch Score-10  Score-9  Score-8  Score-7  Score-6  Score-5  \\\n",
       "165              866     51.0     42.0     89.0    168.0    159.0    132.0   \n",
       "180             2121    211.0    291.0    606.0    871.0    577.0    331.0   \n",
       "188              869     64.0     71.0    165.0    268.0    310.0    175.0   \n",
       "190              958     50.0     48.0    114.0    240.0    281.0    196.0   \n",
       "191              586     42.0     40.0     97.0    169.0    197.0    119.0   \n",
       "...              ...      ...      ...      ...      ...      ...      ...   \n",
       "17358           1145     85.0     78.0    139.0    221.0    165.0     71.0   \n",
       "17359            243     41.0     13.0     37.0     81.0     97.0     55.0   \n",
       "17360            461     22.0     17.0     36.0     80.0     79.0     48.0   \n",
       "17366            560      6.0      3.0      5.0     11.0     16.0      8.0   \n",
       "17545            161  Unknown  Unknown  Unknown  Unknown  Unknown  Unknown   \n",
       "\n",
       "       Score-4  Score-3  Score-2  Score-1  \\\n",
       "165       59.0     19.0     20.0     33.0   \n",
       "180      149.0     69.0     51.0     40.0   \n",
       "188       86.0     43.0     25.0     26.0   \n",
       "190       89.0     54.0     18.0     30.0   \n",
       "191       62.0     23.0     11.0     28.0   \n",
       "...        ...      ...      ...      ...   \n",
       "17358     26.0     22.0     11.0     16.0   \n",
       "17359     39.0     21.0      9.0     12.0   \n",
       "17360     18.0     11.0     10.0      6.0   \n",
       "17366      9.0      3.0      1.0      1.0   \n",
       "17545  Unknown  Unknown  Unknown  Unknown   \n",
       "\n",
       "                                            Cleaned_Name Year_Premiered  \\\n",
       "165                                           Masquerade           1998   \n",
       "180                                          Words Worth           1999   \n",
       "188                                            Pure Mail           2001   \n",
       "190                                Welcome to Pia Carrot           1997   \n",
       "191                              Welcome To Pia Carrot 2           1998   \n",
       "...                                                  ...            ...   \n",
       "17358                        Kimi ga Suki. The Animation           2021   \n",
       "17359                   Ano Ko no Kawari ni Suki na Dake           2020   \n",
       "17360                                 Haitoku no Kyoukai           2021   \n",
       "17366  Rikujoubu Joshi wa Ore no Nama Onaho!!! The An...           2021   \n",
       "17545                  Kazoku: Haha to Shimai no Kyousei           2021   \n",
       "\n",
       "       Duration_in_Minutes  \n",
       "165              30.000000  \n",
       "180              30.000000  \n",
       "188              30.000000  \n",
       "190              29.000000  \n",
       "191              30.000000  \n",
       "...                    ...  \n",
       "17358            28.504771  \n",
       "17359            20.000000  \n",
       "17360            28.504771  \n",
       "17366            20.000000  \n",
       "17545            20.000000  \n",
       "\n",
       "[1348 rows x 38 columns]"
      ]
     },
     "execution_count": 698,
     "metadata": {},
     "output_type": "execute_result"
    }
   ],
   "source": [
    "anime_df_no_syn[anime_df_no_syn['Genres'].str.contains('Hentai')]"
   ]
  },
  {
   "cell_type": "code",
   "execution_count": null,
   "metadata": {},
   "outputs": [],
   "source": []
  },
  {
   "cell_type": "code",
   "execution_count": null,
   "metadata": {},
   "outputs": [],
   "source": []
  },
  {
   "cell_type": "markdown",
   "metadata": {},
   "source": [
    "### Changing Duration to reflect minutes per episode"
   ]
  },
  {
   "cell_type": "code",
   "execution_count": 160,
   "metadata": {},
   "outputs": [],
   "source": [
    "anime_df_no_syn['Duration'] = anime_df_no_syn['Duration'].str.split()"
   ]
  },
  {
   "cell_type": "code",
   "execution_count": 227,
   "metadata": {},
   "outputs": [],
   "source": [
    "anime_df_no_syn['Duration_in_Minutes'] = [anime_df_no_syn['Duration'][x][0] if len(anime_df_no_syn['Duration'][x]) <= 1\n",
    "                                         else (int(anime_df_no_syn['Duration'][x][0])/60 if anime_df_no_syn['Duration'][x][1] == 'sec.' \n",
    "                                         else (int(anime_df_no_syn['Duration'][x][0]) if anime_df_no_syn['Duration'][x][1] == 'min.'\n",
    "                                         else ((int(anime_df_no_syn['Duration'][x][0])*60) + int(anime_df_no_syn['Duration'][x][2]) if anime_df_no_syn['Duration'][x][1] == 'hr.' and len(anime_df_no_syn['Duration'][x]) >= 4 and anime_df_no_syn['Duration'][x][2] != 'per'\n",
    "                                         else (int(anime_df_no_syn['Duration'][x][0])*60 if anime_df_no_syn['Duration'][x][1] == 'hr.' and len(anime_df_no_syn['Duration'][x]) == 2      \n",
    "                                         else anime_df_no_syn['Duration'][x][0])))) for x in range(len(anime_df_no_syn['Duration']))]\n",
    "\n",
    "\n",
    "\n",
    "\n"
   ]
  },
  {
   "cell_type": "code",
   "execution_count": 233,
   "metadata": {},
   "outputs": [
    {
     "data": {
      "text/plain": [
       "array(['1', 'Unknown'], dtype=object)"
      ]
     },
     "execution_count": 233,
     "metadata": {},
     "output_type": "execute_result"
    }
   ],
   "source": [
    "anime_df_no_syn[anime_df_no_syn['Duration_in_Minutes'].apply(lambda x: isinstance(x, str))].Duration_in_Minutes.unique()"
   ]
  },
  {
   "cell_type": "code",
   "execution_count": 235,
   "metadata": {},
   "outputs": [
    {
     "data": {
      "text/html": [
       "<div>\n",
       "<style scoped>\n",
       "    .dataframe tbody tr th:only-of-type {\n",
       "        vertical-align: middle;\n",
       "    }\n",
       "\n",
       "    .dataframe tbody tr th {\n",
       "        vertical-align: top;\n",
       "    }\n",
       "\n",
       "    .dataframe thead th {\n",
       "        text-align: right;\n",
       "    }\n",
       "</style>\n",
       "<table border=\"1\" class=\"dataframe\">\n",
       "  <thead>\n",
       "    <tr style=\"text-align: right;\">\n",
       "      <th></th>\n",
       "      <th>Duration</th>\n",
       "      <th>Duration_in_Minutes</th>\n",
       "    </tr>\n",
       "  </thead>\n",
       "  <tbody>\n",
       "    <tr>\n",
       "      <th>1436</th>\n",
       "      <td>[1, hr., per, ep.]</td>\n",
       "      <td>1</td>\n",
       "    </tr>\n",
       "    <tr>\n",
       "      <th>3178</th>\n",
       "      <td>[1, hr., per, ep.]</td>\n",
       "      <td>1</td>\n",
       "    </tr>\n",
       "    <tr>\n",
       "      <th>5062</th>\n",
       "      <td>[1, hr., per, ep.]</td>\n",
       "      <td>1</td>\n",
       "    </tr>\n",
       "    <tr>\n",
       "      <th>6358</th>\n",
       "      <td>[1, hr., per, ep.]</td>\n",
       "      <td>1</td>\n",
       "    </tr>\n",
       "    <tr>\n",
       "      <th>9285</th>\n",
       "      <td>[1, hr., per, ep.]</td>\n",
       "      <td>1</td>\n",
       "    </tr>\n",
       "  </tbody>\n",
       "</table>\n",
       "</div>"
      ],
      "text/plain": [
       "                Duration Duration_in_Minutes\n",
       "1436  [1, hr., per, ep.]                   1\n",
       "3178  [1, hr., per, ep.]                   1\n",
       "5062  [1, hr., per, ep.]                   1\n",
       "6358  [1, hr., per, ep.]                   1\n",
       "9285  [1, hr., per, ep.]                   1"
      ]
     },
     "execution_count": 235,
     "metadata": {},
     "output_type": "execute_result"
    }
   ],
   "source": [
    "anime_df_no_syn[anime_df_no_syn['Duration_in_Minutes']=='1'][['Duration', 'Duration_in_Minutes']]"
   ]
  },
  {
   "cell_type": "code",
   "execution_count": 236,
   "metadata": {},
   "outputs": [],
   "source": [
    "anime_df_no_syn['Duration_in_Minutes'].replace('1', 60, inplace=True)"
   ]
  },
  {
   "cell_type": "code",
   "execution_count": 237,
   "metadata": {},
   "outputs": [
    {
     "data": {
      "text/plain": [
       "array(['Unknown'], dtype=object)"
      ]
     },
     "execution_count": 237,
     "metadata": {},
     "output_type": "execute_result"
    }
   ],
   "source": [
    "anime_df_no_syn[anime_df_no_syn['Duration_in_Minutes'].apply(lambda x: isinstance(x, str))].Duration_in_Minutes.unique()"
   ]
  },
  {
   "cell_type": "code",
   "execution_count": 246,
   "metadata": {},
   "outputs": [],
   "source": [
    "anime_df_no_syn['Duration_in_Minutes'].replace('Unknown', np.nan, inplace=True)"
   ]
  },
  {
   "cell_type": "code",
   "execution_count": 260,
   "metadata": {},
   "outputs": [
    {
     "data": {
      "text/plain": [
       "Type\n",
       "Movie      53.253378\n",
       "Music       3.346589\n",
       "ONA         7.859471\n",
       "OVA        28.504771\n",
       "Special    18.572245\n",
       "TV         19.547069\n",
       "Unknown    23.000000\n",
       "Name: Duration_in_Minutes, dtype: float64"
      ]
     },
     "execution_count": 260,
     "metadata": {},
     "output_type": "execute_result"
    }
   ],
   "source": [
    "anime_df_no_syn.groupby('Type').mean().Duration_in_Minutes"
   ]
  },
  {
   "cell_type": "code",
   "execution_count": 299,
   "metadata": {},
   "outputs": [],
   "source": [
    "anime_df_no_syn['Duration_in_Minutes'] = [anime_df_no_syn.groupby('Type').mean().Duration_in_Minutes.loc['Movie'] if anime_df_no_syn['Type'][x] =='Movie' and pd.isna(anime_df_no_syn['Duration_in_Minutes'][x])== True\n",
    "                                         else (anime_df_no_syn.groupby('Type').mean().Duration_in_Minutes.loc['Music'] if anime_df_no_syn['Type'][x] =='Music' and pd.isna(anime_df_no_syn['Duration_in_Minutes'][x])== True\n",
    "                                         else (anime_df_no_syn.groupby('Type').mean().Duration_in_Minutes.loc['ONA'] if anime_df_no_syn['Type'][x] =='ONA' and pd.isna(anime_df_no_syn['Duration_in_Minutes'][x])== True\n",
    "                                         else (anime_df_no_syn.groupby('Type').mean().Duration_in_Minutes.loc['OVA'] if anime_df_no_syn['Type'][x] =='OVA' and pd.isna(anime_df_no_syn['Duration_in_Minutes'][x])== True\n",
    "                                         else (anime_df_no_syn.groupby('Type').mean().Duration_in_Minutes.loc['Special'] if anime_df_no_syn['Type'][x] =='Special' and pd.isna(anime_df_no_syn['Duration_in_Minutes'][x])== True\n",
    "                                         else (anime_df_no_syn.groupby('Type').mean().Duration_in_Minutes.loc['TV'] if anime_df_no_syn['Type'][x] =='TV' and pd.isna(anime_df_no_syn['Duration_in_Minutes'][x])== True\n",
    "                                         else (anime_df_no_syn.groupby('Type').mean().Duration_in_Minutes.loc['Unknown'] if anime_df_no_syn['Type'][x] =='Unknown' and pd.isna(anime_df_no_syn['Duration_in_Minutes'][x])== True\n",
    "                                         else anime_df_no_syn['Duration_in_Minutes'][x])))))) for x in range(len(anime_df_no_syn['Duration_in_Minutes']))]\n",
    "\n"
   ]
  },
  {
   "cell_type": "code",
   "execution_count": null,
   "metadata": {},
   "outputs": [],
   "source": []
  },
  {
   "cell_type": "code",
   "execution_count": null,
   "metadata": {},
   "outputs": [],
   "source": []
  },
  {
   "cell_type": "code",
   "execution_count": null,
   "metadata": {},
   "outputs": [],
   "source": []
  },
  {
   "cell_type": "markdown",
   "metadata": {},
   "source": [
    "### Dropping superfluous columns"
   ]
  },
  {
   "cell_type": "code",
   "execution_count": null,
   "metadata": {},
   "outputs": [],
   "source": []
  },
  {
   "cell_type": "code",
   "execution_count": null,
   "metadata": {},
   "outputs": [],
   "source": []
  },
  {
   "cell_type": "markdown",
   "metadata": {},
   "source": [
    "# Cleaning up user ratings"
   ]
  },
  {
   "cell_type": "markdown",
   "metadata": {},
   "source": [
    "### EDA"
   ]
  },
  {
   "cell_type": "code",
   "execution_count": 307,
   "metadata": {},
   "outputs": [],
   "source": [
    "anime_user_ratings = pd.read_csv('./Anime_data/animelist.csv')"
   ]
  },
  {
   "cell_type": "code",
   "execution_count": 308,
   "metadata": {},
   "outputs": [
    {
     "name": "stdout",
     "output_type": "stream",
     "text": [
      "<class 'pandas.core.frame.DataFrame'>\n",
      "RangeIndex: 109224747 entries, 0 to 109224746\n",
      "Data columns (total 5 columns):\n",
      " #   Column            Dtype\n",
      "---  ------            -----\n",
      " 0   user_id           int64\n",
      " 1   anime_id          int64\n",
      " 2   rating            int64\n",
      " 3   watching_status   int64\n",
      " 4   watched_episodes  int64\n",
      "dtypes: int64(5)\n",
      "memory usage: 4.1 GB\n"
     ]
    }
   ],
   "source": [
    "anime_user_ratings.info()"
   ]
  },
  {
   "cell_type": "code",
   "execution_count": 309,
   "metadata": {},
   "outputs": [
    {
     "data": {
      "text/plain": [
       "325770"
      ]
     },
     "execution_count": 309,
     "metadata": {},
     "output_type": "execute_result"
    }
   ],
   "source": [
    "len(anime_user_ratings.user_id.unique())"
   ]
  },
  {
   "cell_type": "code",
   "execution_count": 310,
   "metadata": {},
   "outputs": [
    {
     "data": {
      "image/png": "[encoded data removed]",
      "text/plain": [
       "<Figure size 720x720 with 6 Axes>"
      ]
     },
     "metadata": {
      "needs_background": "light"
     },
     "output_type": "display_data"
    }
   ],
   "source": [
    "anime_user_ratings.hist(figsize=(10,10));"
   ]
  },
  {
   "cell_type": "code",
   "execution_count": 311,
   "metadata": {},
   "outputs": [
    {
     "data": {
      "text/html": [
       "<div>\n",
       "<style scoped>\n",
       "    .dataframe tbody tr th:only-of-type {\n",
       "        vertical-align: middle;\n",
       "    }\n",
       "\n",
       "    .dataframe tbody tr th {\n",
       "        vertical-align: top;\n",
       "    }\n",
       "\n",
       "    .dataframe thead th {\n",
       "        text-align: right;\n",
       "    }\n",
       "</style>\n",
       "<table border=\"1\" class=\"dataframe\">\n",
       "  <thead>\n",
       "    <tr style=\"text-align: right;\">\n",
       "      <th></th>\n",
       "      <th>user_id</th>\n",
       "      <th>anime_id</th>\n",
       "      <th>rating</th>\n",
       "      <th>watching_status</th>\n",
       "      <th>watched_episodes</th>\n",
       "    </tr>\n",
       "  </thead>\n",
       "  <tbody>\n",
       "    <tr>\n",
       "      <th>count</th>\n",
       "      <td>1.092247e+08</td>\n",
       "      <td>1.092247e+08</td>\n",
       "      <td>1.092247e+08</td>\n",
       "      <td>1.092247e+08</td>\n",
       "      <td>1.092247e+08</td>\n",
       "    </tr>\n",
       "    <tr>\n",
       "      <th>mean</th>\n",
       "      <td>1.768098e+05</td>\n",
       "      <td>1.649590e+04</td>\n",
       "      <td>4.245717e+00</td>\n",
       "      <td>3.087289e+00</td>\n",
       "      <td>1.210818e+01</td>\n",
       "    </tr>\n",
       "    <tr>\n",
       "      <th>std</th>\n",
       "      <td>1.018487e+05</td>\n",
       "      <td>1.379737e+04</td>\n",
       "      <td>3.912888e+00</td>\n",
       "      <td>1.774407e+00</td>\n",
       "      <td>1.463155e+02</td>\n",
       "    </tr>\n",
       "    <tr>\n",
       "      <th>min</th>\n",
       "      <td>0.000000e+00</td>\n",
       "      <td>1.000000e+00</td>\n",
       "      <td>0.000000e+00</td>\n",
       "      <td>0.000000e+00</td>\n",
       "      <td>0.000000e+00</td>\n",
       "    </tr>\n",
       "    <tr>\n",
       "      <th>25%</th>\n",
       "      <td>8.849100e+04</td>\n",
       "      <td>3.194000e+03</td>\n",
       "      <td>0.000000e+00</td>\n",
       "      <td>2.000000e+00</td>\n",
       "      <td>0.000000e+00</td>\n",
       "    </tr>\n",
       "    <tr>\n",
       "      <th>50%</th>\n",
       "      <td>1.771420e+05</td>\n",
       "      <td>1.244500e+04</td>\n",
       "      <td>5.000000e+00</td>\n",
       "      <td>2.000000e+00</td>\n",
       "      <td>3.000000e+00</td>\n",
       "    </tr>\n",
       "    <tr>\n",
       "      <th>75%</th>\n",
       "      <td>2.651870e+05</td>\n",
       "      <td>3.083100e+04</td>\n",
       "      <td>8.000000e+00</td>\n",
       "      <td>6.000000e+00</td>\n",
       "      <td>1.200000e+01</td>\n",
       "    </tr>\n",
       "    <tr>\n",
       "      <th>max</th>\n",
       "      <td>3.534040e+05</td>\n",
       "      <td>4.849200e+04</td>\n",
       "      <td>1.000000e+01</td>\n",
       "      <td>5.500000e+01</td>\n",
       "      <td>6.553500e+04</td>\n",
       "    </tr>\n",
       "  </tbody>\n",
       "</table>\n",
       "</div>"
      ],
      "text/plain": [
       "            user_id      anime_id        rating  watching_status  \\\n",
       "count  1.092247e+08  1.092247e+08  1.092247e+08     1.092247e+08   \n",
       "mean   1.768098e+05  1.649590e+04  4.245717e+00     3.087289e+00   \n",
       "std    1.018487e+05  1.379737e+04  3.912888e+00     1.774407e+00   \n",
       "min    0.000000e+00  1.000000e+00  0.000000e+00     0.000000e+00   \n",
       "25%    8.849100e+04  3.194000e+03  0.000000e+00     2.000000e+00   \n",
       "50%    1.771420e+05  1.244500e+04  5.000000e+00     2.000000e+00   \n",
       "75%    2.651870e+05  3.083100e+04  8.000000e+00     6.000000e+00   \n",
       "max    3.534040e+05  4.849200e+04  1.000000e+01     5.500000e+01   \n",
       "\n",
       "       watched_episodes  \n",
       "count      1.092247e+08  \n",
       "mean       1.210818e+01  \n",
       "std        1.463155e+02  \n",
       "min        0.000000e+00  \n",
       "25%        0.000000e+00  \n",
       "50%        3.000000e+00  \n",
       "75%        1.200000e+01  \n",
       "max        6.553500e+04  "
      ]
     },
     "execution_count": 311,
     "metadata": {},
     "output_type": "execute_result"
    }
   ],
   "source": [
    "anime_user_ratings.describe()"
   ]
  },
  {
   "cell_type": "code",
   "execution_count": 312,
   "metadata": {},
   "outputs": [
    {
     "data": {
      "text/plain": [
       "array([ 1,  2,  3,  4,  6,  0,  5, 33, 55])"
      ]
     },
     "execution_count": 312,
     "metadata": {},
     "output_type": "execute_result"
    }
   ],
   "source": [
    "anime_user_ratings.watching_status.unique()"
   ]
  },
  {
   "cell_type": "code",
   "execution_count": 313,
   "metadata": {},
   "outputs": [],
   "source": [
    "anime_user_ratings.rating.replace(0,np.nan, inplace=True)"
   ]
  },
  {
   "cell_type": "code",
   "execution_count": 314,
   "metadata": {},
   "outputs": [],
   "source": [
    "anime_user_ratings.dropna(inplace=True)"
   ]
  },
  {
   "cell_type": "code",
   "execution_count": 315,
   "metadata": {
    "scrolled": true
   },
   "outputs": [
    {
     "data": {
      "image/png": "[encoded data removed]",
      "text/plain": [
       "<Figure size 720x720 with 6 Axes>"
      ]
     },
     "metadata": {
      "needs_background": "light"
     },
     "output_type": "display_data"
    }
   ],
   "source": [
    "anime_user_ratings.hist(figsize=(10,10));"
   ]
  },
  {
   "cell_type": "code",
   "execution_count": 318,
   "metadata": {},
   "outputs": [
    {
     "name": "stdout",
     "output_type": "stream",
     "text": [
      "<class 'pandas.core.frame.DataFrame'>\n",
      "Int64Index: 62397712 entries, 0 to 109224745\n",
      "Data columns (total 5 columns):\n",
      " #   Column            Dtype  \n",
      "---  ------            -----  \n",
      " 0   user_id           int64  \n",
      " 1   anime_id          int64  \n",
      " 2   rating            float64\n",
      " 3   watching_status   int64  \n",
      " 4   watched_episodes  int64  \n",
      "dtypes: float64(1), int64(4)\n",
      "memory usage: 2.8 GB\n"
     ]
    }
   ],
   "source": [
    "anime_user_ratings.info()"
   ]
  },
  {
   "cell_type": "markdown",
   "metadata": {},
   "source": [
    "### Checking Non-Normal values in watching_status column"
   ]
  },
  {
   "cell_type": "code",
   "execution_count": 316,
   "metadata": {},
   "outputs": [
    {
     "data": {
      "text/plain": [
       "watching_status\n",
       "0           77\n",
       "1      1485402\n",
       "2     57633278\n",
       "3      1056358\n",
       "4      1947440\n",
       "5            1\n",
       "6       275155\n",
       "33           1\n",
       "dtype: int64"
      ]
     },
     "execution_count": 316,
     "metadata": {},
     "output_type": "execute_result"
    }
   ],
   "source": [
    "anime_user_ratings.groupby('watching_status').size()"
   ]
  },
  {
   "cell_type": "code",
   "execution_count": 317,
   "metadata": {},
   "outputs": [
    {
     "data": {
      "text/html": [
       "<div>\n",
       "<style scoped>\n",
       "    .dataframe tbody tr th:only-of-type {\n",
       "        vertical-align: middle;\n",
       "    }\n",
       "\n",
       "    .dataframe tbody tr th {\n",
       "        vertical-align: top;\n",
       "    }\n",
       "\n",
       "    .dataframe thead th {\n",
       "        text-align: right;\n",
       "    }\n",
       "</style>\n",
       "<table border=\"1\" class=\"dataframe\">\n",
       "  <thead>\n",
       "    <tr style=\"text-align: right;\">\n",
       "      <th></th>\n",
       "      <th>user_id</th>\n",
       "      <th>anime_id</th>\n",
       "      <th>rating</th>\n",
       "      <th>watching_status</th>\n",
       "      <th>watched_episodes</th>\n",
       "    </tr>\n",
       "  </thead>\n",
       "  <tbody>\n",
       "    <tr>\n",
       "      <th>2970882</th>\n",
       "      <td>10015</td>\n",
       "      <td>18767</td>\n",
       "      <td>7.0</td>\n",
       "      <td>0</td>\n",
       "      <td>2</td>\n",
       "    </tr>\n",
       "    <tr>\n",
       "      <th>2970886</th>\n",
       "      <td>10015</td>\n",
       "      <td>14741</td>\n",
       "      <td>10.0</td>\n",
       "      <td>0</td>\n",
       "      <td>12</td>\n",
       "    </tr>\n",
       "    <tr>\n",
       "      <th>2970889</th>\n",
       "      <td>10015</td>\n",
       "      <td>9479</td>\n",
       "      <td>10.0</td>\n",
       "      <td>0</td>\n",
       "      <td>13</td>\n",
       "    </tr>\n",
       "    <tr>\n",
       "      <th>2970892</th>\n",
       "      <td>10015</td>\n",
       "      <td>12549</td>\n",
       "      <td>7.0</td>\n",
       "      <td>0</td>\n",
       "      <td>12</td>\n",
       "    </tr>\n",
       "    <tr>\n",
       "      <th>2970893</th>\n",
       "      <td>10015</td>\n",
       "      <td>14893</td>\n",
       "      <td>6.0</td>\n",
       "      <td>0</td>\n",
       "      <td>1</td>\n",
       "    </tr>\n",
       "    <tr>\n",
       "      <th>...</th>\n",
       "      <td>...</td>\n",
       "      <td>...</td>\n",
       "      <td>...</td>\n",
       "      <td>...</td>\n",
       "      <td>...</td>\n",
       "    </tr>\n",
       "    <tr>\n",
       "      <th>36955269</th>\n",
       "      <td>120049</td>\n",
       "      <td>22043</td>\n",
       "      <td>10.0</td>\n",
       "      <td>0</td>\n",
       "      <td>12</td>\n",
       "    </tr>\n",
       "    <tr>\n",
       "      <th>36955270</th>\n",
       "      <td>120049</td>\n",
       "      <td>11061</td>\n",
       "      <td>10.0</td>\n",
       "      <td>0</td>\n",
       "      <td>15</td>\n",
       "    </tr>\n",
       "    <tr>\n",
       "      <th>36955271</th>\n",
       "      <td>120049</td>\n",
       "      <td>249</td>\n",
       "      <td>10.0</td>\n",
       "      <td>0</td>\n",
       "      <td>2</td>\n",
       "    </tr>\n",
       "    <tr>\n",
       "      <th>36955272</th>\n",
       "      <td>120049</td>\n",
       "      <td>1604</td>\n",
       "      <td>10.0</td>\n",
       "      <td>0</td>\n",
       "      <td>18</td>\n",
       "    </tr>\n",
       "    <tr>\n",
       "      <th>36955273</th>\n",
       "      <td>120049</td>\n",
       "      <td>21</td>\n",
       "      <td>10.0</td>\n",
       "      <td>0</td>\n",
       "      <td>55</td>\n",
       "    </tr>\n",
       "  </tbody>\n",
       "</table>\n",
       "<p>77 rows × 5 columns</p>\n",
       "</div>"
      ],
      "text/plain": [
       "          user_id  anime_id  rating  watching_status  watched_episodes\n",
       "2970882     10015     18767     7.0                0                 2\n",
       "2970886     10015     14741    10.0                0                12\n",
       "2970889     10015      9479    10.0                0                13\n",
       "2970892     10015     12549     7.0                0                12\n",
       "2970893     10015     14893     6.0                0                 1\n",
       "...           ...       ...     ...              ...               ...\n",
       "36955269   120049     22043    10.0                0                12\n",
       "36955270   120049     11061    10.0                0                15\n",
       "36955271   120049       249    10.0                0                 2\n",
       "36955272   120049      1604    10.0                0                18\n",
       "36955273   120049        21    10.0                0                55\n",
       "\n",
       "[77 rows x 5 columns]"
      ]
     },
     "execution_count": 317,
     "metadata": {},
     "output_type": "execute_result"
    }
   ],
   "source": [
    "anime_user_ratings[anime_user_ratings['watching_status'] == 0]"
   ]
  },
  {
   "cell_type": "code",
   "execution_count": 319,
   "metadata": {},
   "outputs": [
    {
     "data": {
      "text/html": [
       "<div>\n",
       "<style scoped>\n",
       "    .dataframe tbody tr th:only-of-type {\n",
       "        vertical-align: middle;\n",
       "    }\n",
       "\n",
       "    .dataframe tbody tr th {\n",
       "        vertical-align: top;\n",
       "    }\n",
       "\n",
       "    .dataframe thead th {\n",
       "        text-align: right;\n",
       "    }\n",
       "</style>\n",
       "<table border=\"1\" class=\"dataframe\">\n",
       "  <thead>\n",
       "    <tr style=\"text-align: right;\">\n",
       "      <th></th>\n",
       "      <th>user_id</th>\n",
       "      <th>anime_id</th>\n",
       "      <th>rating</th>\n",
       "      <th>watching_status</th>\n",
       "      <th>watched_episodes</th>\n",
       "    </tr>\n",
       "  </thead>\n",
       "  <tbody>\n",
       "    <tr>\n",
       "      <th>2970882</th>\n",
       "      <td>10015</td>\n",
       "      <td>18767</td>\n",
       "      <td>7.0</td>\n",
       "      <td>0</td>\n",
       "      <td>2</td>\n",
       "    </tr>\n",
       "    <tr>\n",
       "      <th>2970886</th>\n",
       "      <td>10015</td>\n",
       "      <td>14741</td>\n",
       "      <td>10.0</td>\n",
       "      <td>0</td>\n",
       "      <td>12</td>\n",
       "    </tr>\n",
       "    <tr>\n",
       "      <th>2970889</th>\n",
       "      <td>10015</td>\n",
       "      <td>9479</td>\n",
       "      <td>10.0</td>\n",
       "      <td>0</td>\n",
       "      <td>13</td>\n",
       "    </tr>\n",
       "    <tr>\n",
       "      <th>2970892</th>\n",
       "      <td>10015</td>\n",
       "      <td>12549</td>\n",
       "      <td>7.0</td>\n",
       "      <td>0</td>\n",
       "      <td>12</td>\n",
       "    </tr>\n",
       "    <tr>\n",
       "      <th>2970893</th>\n",
       "      <td>10015</td>\n",
       "      <td>14893</td>\n",
       "      <td>6.0</td>\n",
       "      <td>0</td>\n",
       "      <td>1</td>\n",
       "    </tr>\n",
       "    <tr>\n",
       "      <th>...</th>\n",
       "      <td>...</td>\n",
       "      <td>...</td>\n",
       "      <td>...</td>\n",
       "      <td>...</td>\n",
       "      <td>...</td>\n",
       "    </tr>\n",
       "    <tr>\n",
       "      <th>36955269</th>\n",
       "      <td>120049</td>\n",
       "      <td>22043</td>\n",
       "      <td>10.0</td>\n",
       "      <td>0</td>\n",
       "      <td>12</td>\n",
       "    </tr>\n",
       "    <tr>\n",
       "      <th>36955270</th>\n",
       "      <td>120049</td>\n",
       "      <td>11061</td>\n",
       "      <td>10.0</td>\n",
       "      <td>0</td>\n",
       "      <td>15</td>\n",
       "    </tr>\n",
       "    <tr>\n",
       "      <th>36955271</th>\n",
       "      <td>120049</td>\n",
       "      <td>249</td>\n",
       "      <td>10.0</td>\n",
       "      <td>0</td>\n",
       "      <td>2</td>\n",
       "    </tr>\n",
       "    <tr>\n",
       "      <th>36955272</th>\n",
       "      <td>120049</td>\n",
       "      <td>1604</td>\n",
       "      <td>10.0</td>\n",
       "      <td>0</td>\n",
       "      <td>18</td>\n",
       "    </tr>\n",
       "    <tr>\n",
       "      <th>36955273</th>\n",
       "      <td>120049</td>\n",
       "      <td>21</td>\n",
       "      <td>10.0</td>\n",
       "      <td>0</td>\n",
       "      <td>55</td>\n",
       "    </tr>\n",
       "  </tbody>\n",
       "</table>\n",
       "<p>77 rows × 5 columns</p>\n",
       "</div>"
      ],
      "text/plain": [
       "          user_id  anime_id  rating  watching_status  watched_episodes\n",
       "2970882     10015     18767     7.0                0                 2\n",
       "2970886     10015     14741    10.0                0                12\n",
       "2970889     10015      9479    10.0                0                13\n",
       "2970892     10015     12549     7.0                0                12\n",
       "2970893     10015     14893     6.0                0                 1\n",
       "...           ...       ...     ...              ...               ...\n",
       "36955269   120049     22043    10.0                0                12\n",
       "36955270   120049     11061    10.0                0                15\n",
       "36955271   120049       249    10.0                0                 2\n",
       "36955272   120049      1604    10.0                0                18\n",
       "36955273   120049        21    10.0                0                55\n",
       "\n",
       "[77 rows x 5 columns]"
      ]
     },
     "execution_count": 319,
     "metadata": {},
     "output_type": "execute_result"
    }
   ],
   "source": [
    "anime_user_ratings[(anime_user_ratings['watching_status'] == 0) & (anime_user_ratings['rating'] !=0)]\n",
    "\n"
   ]
  },
  {
   "cell_type": "markdown",
   "metadata": {},
   "source": [
    "### Checking Non-Normal values in watched_episodes column"
   ]
  },
  {
   "cell_type": "code",
   "execution_count": 25,
   "metadata": {},
   "outputs": [
    {
     "data": {
      "text/html": [
       "<div>\n",
       "<style scoped>\n",
       "    .dataframe tbody tr th:only-of-type {\n",
       "        vertical-align: middle;\n",
       "    }\n",
       "\n",
       "    .dataframe tbody tr th {\n",
       "        vertical-align: top;\n",
       "    }\n",
       "\n",
       "    .dataframe thead th {\n",
       "        text-align: right;\n",
       "    }\n",
       "</style>\n",
       "<table border=\"1\" class=\"dataframe\">\n",
       "  <thead>\n",
       "    <tr style=\"text-align: right;\">\n",
       "      <th></th>\n",
       "      <th>user_id</th>\n",
       "      <th>anime_id</th>\n",
       "      <th>rating</th>\n",
       "      <th>watching_status</th>\n",
       "      <th>watched_episodes</th>\n",
       "    </tr>\n",
       "  </thead>\n",
       "  <tbody>\n",
       "    <tr>\n",
       "      <th>186970</th>\n",
       "      <td>631</td>\n",
       "      <td>3221</td>\n",
       "      <td>6</td>\n",
       "      <td>2</td>\n",
       "      <td>9001</td>\n",
       "    </tr>\n",
       "    <tr>\n",
       "      <th>194983</th>\n",
       "      <td>656</td>\n",
       "      <td>21</td>\n",
       "      <td>7</td>\n",
       "      <td>1</td>\n",
       "      <td>36600</td>\n",
       "    </tr>\n",
       "    <tr>\n",
       "      <th>214838</th>\n",
       "      <td>722</td>\n",
       "      <td>3342</td>\n",
       "      <td>6</td>\n",
       "      <td>2</td>\n",
       "      <td>9001</td>\n",
       "    </tr>\n",
       "    <tr>\n",
       "      <th>355037</th>\n",
       "      <td>1125</td>\n",
       "      <td>355</td>\n",
       "      <td>5</td>\n",
       "      <td>2</td>\n",
       "      <td>9001</td>\n",
       "    </tr>\n",
       "    <tr>\n",
       "      <th>420236</th>\n",
       "      <td>1371</td>\n",
       "      <td>148</td>\n",
       "      <td>8</td>\n",
       "      <td>2</td>\n",
       "      <td>9001</td>\n",
       "    </tr>\n",
       "    <tr>\n",
       "      <th>...</th>\n",
       "      <td>...</td>\n",
       "      <td>...</td>\n",
       "      <td>...</td>\n",
       "      <td>...</td>\n",
       "      <td>...</td>\n",
       "    </tr>\n",
       "    <tr>\n",
       "      <th>109042337</th>\n",
       "      <td>352832</td>\n",
       "      <td>12393</td>\n",
       "      <td>0</td>\n",
       "      <td>2</td>\n",
       "      <td>1818</td>\n",
       "    </tr>\n",
       "    <tr>\n",
       "      <th>109042948</th>\n",
       "      <td>352832</td>\n",
       "      <td>2406</td>\n",
       "      <td>0</td>\n",
       "      <td>3</td>\n",
       "      <td>7000</td>\n",
       "    </tr>\n",
       "    <tr>\n",
       "      <th>109077329</th>\n",
       "      <td>352930</td>\n",
       "      <td>2406</td>\n",
       "      <td>9</td>\n",
       "      <td>1</td>\n",
       "      <td>6688</td>\n",
       "    </tr>\n",
       "    <tr>\n",
       "      <th>109104702</th>\n",
       "      <td>353021</td>\n",
       "      <td>149</td>\n",
       "      <td>7</td>\n",
       "      <td>2</td>\n",
       "      <td>9001</td>\n",
       "    </tr>\n",
       "    <tr>\n",
       "      <th>109114066</th>\n",
       "      <td>353056</td>\n",
       "      <td>4722</td>\n",
       "      <td>0</td>\n",
       "      <td>2</td>\n",
       "      <td>9001</td>\n",
       "    </tr>\n",
       "  </tbody>\n",
       "</table>\n",
       "<p>2477 rows × 5 columns</p>\n",
       "</div>"
      ],
      "text/plain": [
       "           user_id  anime_id  rating  watching_status  watched_episodes\n",
       "186970         631      3221       6                2              9001\n",
       "194983         656        21       7                1             36600\n",
       "214838         722      3342       6                2              9001\n",
       "355037        1125       355       5                2              9001\n",
       "420236        1371       148       8                2              9001\n",
       "...            ...       ...     ...              ...               ...\n",
       "109042337   352832     12393       0                2              1818\n",
       "109042948   352832      2406       0                3              7000\n",
       "109077329   352930      2406       9                1              6688\n",
       "109104702   353021       149       7                2              9001\n",
       "109114066   353056      4722       0                2              9001\n",
       "\n",
       "[2477 rows x 5 columns]"
      ]
     },
     "execution_count": 25,
     "metadata": {},
     "output_type": "execute_result"
    }
   ],
   "source": [
    "anime_user_ratings[anime_user_ratings['watched_episodes'] > 1800]"
   ]
  },
  {
   "cell_type": "code",
   "execution_count": 26,
   "metadata": {},
   "outputs": [
    {
     "data": {
      "text/html": [
       "<div>\n",
       "<style scoped>\n",
       "    .dataframe tbody tr th:only-of-type {\n",
       "        vertical-align: middle;\n",
       "    }\n",
       "\n",
       "    .dataframe tbody tr th {\n",
       "        vertical-align: top;\n",
       "    }\n",
       "\n",
       "    .dataframe thead th {\n",
       "        text-align: right;\n",
       "    }\n",
       "</style>\n",
       "<table border=\"1\" class=\"dataframe\">\n",
       "  <thead>\n",
       "    <tr style=\"text-align: right;\">\n",
       "      <th></th>\n",
       "      <th>MAL_ID</th>\n",
       "      <th>Name</th>\n",
       "      <th>Score</th>\n",
       "      <th>Genres</th>\n",
       "      <th>English name</th>\n",
       "      <th>Japanese name</th>\n",
       "      <th>Type</th>\n",
       "      <th>Episodes</th>\n",
       "      <th>Aired</th>\n",
       "      <th>Premiered</th>\n",
       "      <th>Producers</th>\n",
       "      <th>Licensors</th>\n",
       "      <th>Studios</th>\n",
       "      <th>Source</th>\n",
       "      <th>Duration</th>\n",
       "      <th>Rating</th>\n",
       "      <th>Ranked</th>\n",
       "      <th>Popularity</th>\n",
       "      <th>Members</th>\n",
       "      <th>Favorites</th>\n",
       "      <th>Watching</th>\n",
       "      <th>Completed</th>\n",
       "      <th>On-Hold</th>\n",
       "      <th>Dropped</th>\n",
       "      <th>Plan to Watch</th>\n",
       "      <th>Score-10</th>\n",
       "      <th>Score-9</th>\n",
       "      <th>Score-8</th>\n",
       "      <th>Score-7</th>\n",
       "      <th>Score-6</th>\n",
       "      <th>Score-5</th>\n",
       "      <th>Score-4</th>\n",
       "      <th>Score-3</th>\n",
       "      <th>Score-2</th>\n",
       "      <th>Score-1</th>\n",
       "      <th>Cleaned_Name</th>\n",
       "      <th>Year_Premiered</th>\n",
       "    </tr>\n",
       "  </thead>\n",
       "  <tbody>\n",
       "    <tr>\n",
       "      <th>11</th>\n",
       "      <td>21</td>\n",
       "      <td>One Piece</td>\n",
       "      <td>8.52</td>\n",
       "      <td>Action, Adventure, Comedy, Super Power, Drama,...</td>\n",
       "      <td>One Piece</td>\n",
       "      <td>ONE PIECE</td>\n",
       "      <td>TV</td>\n",
       "      <td>Unknown</td>\n",
       "      <td>Oct 20, 1999 to ?</td>\n",
       "      <td>Fall 1999</td>\n",
       "      <td>Fuji TV, TAP, Shueisha</td>\n",
       "      <td>Funimation, 4Kids Entertainment</td>\n",
       "      <td>Toei Animation</td>\n",
       "      <td>Manga</td>\n",
       "      <td>24 min.</td>\n",
       "      <td>PG-13 - Teens 13 or older</td>\n",
       "      <td>95.0</td>\n",
       "      <td>31</td>\n",
       "      <td>1352724</td>\n",
       "      <td>126645</td>\n",
       "      <td>887333</td>\n",
       "      <td>33</td>\n",
       "      <td>187919</td>\n",
       "      <td>136245</td>\n",
       "      <td>141194</td>\n",
       "      <td>292445.0</td>\n",
       "      <td>166186.0</td>\n",
       "      <td>141755.0</td>\n",
       "      <td>85424.0</td>\n",
       "      <td>35342.0</td>\n",
       "      <td>19019.0</td>\n",
       "      <td>8201.0</td>\n",
       "      <td>3675.0</td>\n",
       "      <td>2616.0</td>\n",
       "      <td>6340.0</td>\n",
       "      <td>One Piece</td>\n",
       "      <td>1999</td>\n",
       "    </tr>\n",
       "  </tbody>\n",
       "</table>\n",
       "</div>"
      ],
      "text/plain": [
       "    MAL_ID       Name Score  \\\n",
       "11      21  One Piece  8.52   \n",
       "\n",
       "                                               Genres English name  \\\n",
       "11  Action, Adventure, Comedy, Super Power, Drama,...    One Piece   \n",
       "\n",
       "   Japanese name Type Episodes              Aired  Premiered  \\\n",
       "11     ONE PIECE   TV  Unknown  Oct 20, 1999 to ?  Fall 1999   \n",
       "\n",
       "                 Producers                        Licensors         Studios  \\\n",
       "11  Fuji TV, TAP, Shueisha  Funimation, 4Kids Entertainment  Toei Animation   \n",
       "\n",
       "   Source Duration                     Rating Ranked  Popularity  Members  \\\n",
       "11  Manga  24 min.  PG-13 - Teens 13 or older   95.0          31  1352724   \n",
       "\n",
       "    Favorites  Watching  Completed  On-Hold  Dropped  Plan to Watch  Score-10  \\\n",
       "11     126645    887333         33   187919   136245         141194  292445.0   \n",
       "\n",
       "     Score-9   Score-8  Score-7  Score-6  Score-5 Score-4 Score-3 Score-2  \\\n",
       "11  166186.0  141755.0  85424.0  35342.0  19019.0  8201.0  3675.0  2616.0   \n",
       "\n",
       "   Score-1 Cleaned_Name Year_Premiered  \n",
       "11  6340.0    One Piece           1999  "
      ]
     },
     "execution_count": 26,
     "metadata": {},
     "output_type": "execute_result"
    }
   ],
   "source": [
    "anime_df_no_syn[anime_df_no_syn['MAL_ID'] == 21]"
   ]
  },
  {
   "cell_type": "code",
   "execution_count": null,
   "metadata": {},
   "outputs": [],
   "source": []
  },
  {
   "cell_type": "code",
   "execution_count": 320,
   "metadata": {},
   "outputs": [],
   "source": [
    "Top_1000_anime = anime_df_no_syn[anime_df_no_syn['Popularity'] != 0].sort_values('Popularity', ascending=True).head(1000)"
   ]
  },
  {
   "cell_type": "code",
   "execution_count": 321,
   "metadata": {},
   "outputs": [
    {
     "data": {
      "text/plain": [
       "1000"
      ]
     },
     "execution_count": 321,
     "metadata": {},
     "output_type": "execute_result"
    }
   ],
   "source": [
    "len(Top_1000_anime.MAL_ID)"
   ]
  },
  {
   "cell_type": "code",
   "execution_count": 322,
   "metadata": {},
   "outputs": [],
   "source": [
    "anime_id_1000_anime = anime_user_ratings[anime_user_ratings.anime_id.isin(list(Top_1000_anime.MAL_ID))][['user_id', 'anime_id', 'rating']]\n",
    "\n"
   ]
  },
  {
   "cell_type": "code",
   "execution_count": 323,
   "metadata": {},
   "outputs": [
    {
     "data": {
      "image/png": "[encoded data removed]",
      "text/plain": [
       "<Figure size 432x288 with 1 Axes>"
      ]
     },
     "metadata": {
      "needs_background": "light"
     },
     "output_type": "display_data"
    }
   ],
   "source": [
    "anime_id_1000_anime.rating.hist();"
   ]
  },
  {
   "cell_type": "code",
   "execution_count": 324,
   "metadata": {},
   "outputs": [
    {
     "data": {
      "text/plain": [
       "user_id\n",
       "126070      1\n",
       "282722      1\n",
       "282704      1\n",
       "97146       1\n",
       "97140       1\n",
       "         ... \n",
       "291207    979\n",
       "298783    983\n",
       "321704    990\n",
       "298988    990\n",
       "283786    995\n",
       "Length: 311353, dtype: int64"
      ]
     },
     "execution_count": 324,
     "metadata": {},
     "output_type": "execute_result"
    }
   ],
   "source": [
    "anime_id_1000_anime.groupby('user_id').size().sort_values()"
   ]
  },
  {
   "cell_type": "code",
   "execution_count": 325,
   "metadata": {},
   "outputs": [],
   "source": [
    "anime_id_1000_anime.replace(0,np.nan, inplace=True)"
   ]
  },
  {
   "cell_type": "code",
   "execution_count": 326,
   "metadata": {},
   "outputs": [],
   "source": [
    "anime_id_1000_anime.dropna(inplace=True)"
   ]
  },
  {
   "cell_type": "code",
   "execution_count": 327,
   "metadata": {},
   "outputs": [
    {
     "data": {
      "image/png": "[encoded data removed]",
      "text/plain": [
       "<Figure size 432x288 with 1 Axes>"
      ]
     },
     "metadata": {
      "needs_background": "light"
     },
     "output_type": "display_data"
    }
   ],
   "source": [
    "anime_id_1000_anime.rating.hist();"
   ]
  },
  {
   "cell_type": "code",
   "execution_count": 328,
   "metadata": {},
   "outputs": [
    {
     "data": {
      "image/png": "[encoded data removed]",
      "text/plain": [
       "<Figure size 432x288 with 1 Axes>"
      ]
     },
     "metadata": {
      "needs_background": "light"
     },
     "output_type": "display_data"
    }
   ],
   "source": [
    "anime_id_1000_anime.groupby('user_id').size().sort_values().hist(bins=100);"
   ]
  },
  {
   "cell_type": "code",
   "execution_count": 329,
   "metadata": {},
   "outputs": [
    {
     "data": {
      "text/plain": [
       "count    311352.000000\n",
       "mean        120.374843\n",
       "std         115.994606\n",
       "min           1.000000\n",
       "25%          35.000000\n",
       "50%          87.000000\n",
       "75%         171.000000\n",
       "max         995.000000\n",
       "dtype: float64"
      ]
     },
     "execution_count": 329,
     "metadata": {},
     "output_type": "execute_result"
    }
   ],
   "source": [
    "anime_id_1000_anime.groupby('user_id').size().describe()"
   ]
  },
  {
   "cell_type": "code",
   "execution_count": 330,
   "metadata": {},
   "outputs": [],
   "source": [
    "filtered_df_1000_anime = anime_id_1000_anime.groupby('user_id').filter(lambda x : len(x)>=5)\n",
    "filtered_df_1000_anime = filtered_df_1000_anime.groupby('user_id').filter(lambda x : len(x)<=10)"
   ]
  },
  {
   "cell_type": "code",
   "execution_count": 331,
   "metadata": {
    "scrolled": true
   },
   "outputs": [
    {
     "data": {
      "text/html": [
       "<div>\n",
       "<style scoped>\n",
       "    .dataframe tbody tr th:only-of-type {\n",
       "        vertical-align: middle;\n",
       "    }\n",
       "\n",
       "    .dataframe tbody tr th {\n",
       "        vertical-align: top;\n",
       "    }\n",
       "\n",
       "    .dataframe thead th {\n",
       "        text-align: right;\n",
       "    }\n",
       "</style>\n",
       "<table border=\"1\" class=\"dataframe\">\n",
       "  <thead>\n",
       "    <tr style=\"text-align: right;\">\n",
       "      <th></th>\n",
       "      <th>user_id</th>\n",
       "      <th>anime_id</th>\n",
       "      <th>rating</th>\n",
       "    </tr>\n",
       "  </thead>\n",
       "  <tbody>\n",
       "    <tr>\n",
       "      <th>3407</th>\n",
       "      <td>15.0</td>\n",
       "      <td>223</td>\n",
       "      <td>10.0</td>\n",
       "    </tr>\n",
       "    <tr>\n",
       "      <th>3408</th>\n",
       "      <td>15.0</td>\n",
       "      <td>225</td>\n",
       "      <td>5.0</td>\n",
       "    </tr>\n",
       "    <tr>\n",
       "      <th>3445</th>\n",
       "      <td>15.0</td>\n",
       "      <td>72</td>\n",
       "      <td>7.0</td>\n",
       "    </tr>\n",
       "    <tr>\n",
       "      <th>3476</th>\n",
       "      <td>15.0</td>\n",
       "      <td>527</td>\n",
       "      <td>10.0</td>\n",
       "    </tr>\n",
       "    <tr>\n",
       "      <th>3488</th>\n",
       "      <td>15.0</td>\n",
       "      <td>482</td>\n",
       "      <td>7.0</td>\n",
       "    </tr>\n",
       "    <tr>\n",
       "      <th>...</th>\n",
       "      <td>...</td>\n",
       "      <td>...</td>\n",
       "      <td>...</td>\n",
       "    </tr>\n",
       "    <tr>\n",
       "      <th>109224715</th>\n",
       "      <td>353404.0</td>\n",
       "      <td>6033</td>\n",
       "      <td>10.0</td>\n",
       "    </tr>\n",
       "    <tr>\n",
       "      <th>109224716</th>\n",
       "      <td>353404.0</td>\n",
       "      <td>223</td>\n",
       "      <td>9.0</td>\n",
       "    </tr>\n",
       "    <tr>\n",
       "      <th>109224717</th>\n",
       "      <td>353404.0</td>\n",
       "      <td>225</td>\n",
       "      <td>8.0</td>\n",
       "    </tr>\n",
       "    <tr>\n",
       "      <th>109224723</th>\n",
       "      <td>353404.0</td>\n",
       "      <td>813</td>\n",
       "      <td>9.0</td>\n",
       "    </tr>\n",
       "    <tr>\n",
       "      <th>109224743</th>\n",
       "      <td>353404.0</td>\n",
       "      <td>392</td>\n",
       "      <td>9.0</td>\n",
       "    </tr>\n",
       "  </tbody>\n",
       "</table>\n",
       "<p>108235 rows × 3 columns</p>\n",
       "</div>"
      ],
      "text/plain": [
       "            user_id  anime_id  rating\n",
       "3407           15.0       223    10.0\n",
       "3408           15.0       225     5.0\n",
       "3445           15.0        72     7.0\n",
       "3476           15.0       527    10.0\n",
       "3488           15.0       482     7.0\n",
       "...             ...       ...     ...\n",
       "109224715  353404.0      6033    10.0\n",
       "109224716  353404.0       223     9.0\n",
       "109224717  353404.0       225     8.0\n",
       "109224723  353404.0       813     9.0\n",
       "109224743  353404.0       392     9.0\n",
       "\n",
       "[108235 rows x 3 columns]"
      ]
     },
     "execution_count": 331,
     "metadata": {},
     "output_type": "execute_result"
    }
   ],
   "source": [
    "filtered_df_1000_anime"
   ]
  },
  {
   "cell_type": "code",
   "execution_count": 332,
   "metadata": {},
   "outputs": [
    {
     "data": {
      "image/png": "[encoded data removed]",
      "text/plain": [
       "<Figure size 432x288 with 1 Axes>"
      ]
     },
     "metadata": {
      "needs_background": "light"
     },
     "output_type": "display_data"
    }
   ],
   "source": [
    "filtered_df_1000_anime.rating.hist();"
   ]
  },
  {
   "cell_type": "code",
   "execution_count": 333,
   "metadata": {},
   "outputs": [
    {
     "data": {
      "text/plain": [
       "14754"
      ]
     },
     "execution_count": 333,
     "metadata": {},
     "output_type": "execute_result"
    }
   ],
   "source": [
    "len(filtered_df_1000_anime.user_id.unique())"
   ]
  },
  {
   "cell_type": "code",
   "execution_count": 334,
   "metadata": {},
   "outputs": [
    {
     "data": {
      "text/plain": [
       "997"
      ]
     },
     "execution_count": 334,
     "metadata": {},
     "output_type": "execute_result"
    }
   ],
   "source": [
    "len(filtered_df_1000_anime.anime_id.unique())"
   ]
  },
  {
   "cell_type": "markdown",
   "metadata": {},
   "source": [
    "# First Model"
   ]
  },
  {
   "cell_type": "markdown",
   "metadata": {},
   "source": [
    "## Modeling with Surprise"
   ]
  },
  {
   "cell_type": "code",
   "execution_count": 101,
   "metadata": {},
   "outputs": [],
   "source": [
    "reader = Reader(rating_scale=(1,10))\n",
    "data = Dataset.load_from_df(filtered_df_1000_anime, reader)"
   ]
  },
  {
   "cell_type": "code",
   "execution_count": 102,
   "metadata": {},
   "outputs": [],
   "source": [
    "train, test = train_test_split(data, test_size=.25)"
   ]
  },
  {
   "cell_type": "code",
   "execution_count": 103,
   "metadata": {},
   "outputs": [],
   "source": [
    "svd_model = SVD()"
   ]
  },
  {
   "cell_type": "code",
   "execution_count": 105,
   "metadata": {
    "scrolled": true
   },
   "outputs": [
    {
     "name": "stdout",
     "output_type": "stream",
     "text": [
      "RMSE: 1.4456\n",
      "CPU times: user 212 ms, sys: 9.11 ms, total: 221 ms\n",
      "Wall time: 229 ms\n"
     ]
    },
    {
     "data": {
      "text/plain": [
       "1.4456478327008737"
      ]
     },
     "execution_count": 105,
     "metadata": {},
     "output_type": "execute_result"
    }
   ],
   "source": [
    "%%time\n",
    "\n",
    "svd_model.fit(train)\n",
    "accuracy.rmse(svd_model.test(test))"
   ]
  },
  {
   "cell_type": "code",
   "execution_count": null,
   "metadata": {},
   "outputs": [],
   "source": []
  },
  {
   "cell_type": "code",
   "execution_count": 135,
   "metadata": {},
   "outputs": [
    {
     "name": "stderr",
     "output_type": "stream",
     "text": [
      "[Parallel(n_jobs=-1)]: Using backend LokyBackend with 4 concurrent workers.\n",
      "[Parallel(n_jobs=-1)]: Done  10 tasks      | elapsed:   39.6s\n",
      "[Parallel(n_jobs=-1)]: Done  64 tasks      | elapsed:  5.8min\n",
      "[Parallel(n_jobs=-1)]: Done  81 out of  81 | elapsed:  8.8min finished\n"
     ]
    }
   ],
   "source": [
    "params = {'n_factors': [50, 100, 200],\n",
    "         'n_epochs': [20, 50, 100],\n",
    "         'reg_all': [0.02, 0.001, 0.1]}\n",
    "g_s_svd = GridSearchCV(SVD, param_grid=params, cv=3, n_jobs=-1, joblib_verbose=5)\n",
    "g_s_svd.fit(data)"
   ]
  },
  {
   "cell_type": "code",
   "execution_count": 136,
   "metadata": {},
   "outputs": [
    {
     "name": "stdout",
     "output_type": "stream",
     "text": [
      "{'rmse': 1.4050497220655591, 'mae': 1.0215453579304936}\n",
      "{'rmse': {'n_factors': 200, 'reg_all': 0.1, 'n_epochs': 100}, 'mae': {'n_factors': 50, 'reg_all': 0.1, 'n_epochs': 100}}\n"
     ]
    }
   ],
   "source": [
    "print(g_s_svd.best_score)\n",
    "print(g_s_svd.best_params)"
   ]
  },
  {
   "cell_type": "code",
   "execution_count": null,
   "metadata": {},
   "outputs": [],
   "source": []
  },
  {
   "cell_type": "code",
   "execution_count": 142,
   "metadata": {},
   "outputs": [],
   "source": [
    "svdpp_model = SVDpp()"
   ]
  },
  {
   "cell_type": "code",
   "execution_count": 144,
   "metadata": {},
   "outputs": [
    {
     "name": "stdout",
     "output_type": "stream",
     "text": [
      "RMSE: 1.4430\n"
     ]
    },
    {
     "data": {
      "text/plain": [
       "1.4430259595887611"
      ]
     },
     "execution_count": 144,
     "metadata": {},
     "output_type": "execute_result"
    }
   ],
   "source": [
    "svdpp_model.fit(train)\n",
    "accuracy.rmse(svdpp_model.test(test))"
   ]
  },
  {
   "cell_type": "code",
   "execution_count": null,
   "metadata": {},
   "outputs": [],
   "source": []
  },
  {
   "cell_type": "code",
   "execution_count": 145,
   "metadata": {},
   "outputs": [
    {
     "name": "stderr",
     "output_type": "stream",
     "text": [
      "[Parallel(n_jobs=-1)]: Using backend LokyBackend with 4 concurrent workers.\n",
      "[Parallel(n_jobs=-1)]: Done  10 tasks      | elapsed:  2.8min\n",
      "[Parallel(n_jobs=-1)]: Done  64 tasks      | elapsed: 33.9min\n",
      "[Parallel(n_jobs=-1)]: Done  81 out of  81 | elapsed: 55.7min finished\n"
     ]
    }
   ],
   "source": [
    "params = {'n_factors': [50, 100, 200],\n",
    "         'n_epochs': [20, 50, 100],\n",
    "         'reg_all': [0.02, 0.001, 0.1]}\n",
    "g_s_svd = GridSearchCV(SVDpp, param_grid=params, cv=3, n_jobs=-1, joblib_verbose=5)\n",
    "g_s_svd.fit(data)"
   ]
  },
  {
   "cell_type": "code",
   "execution_count": 146,
   "metadata": {},
   "outputs": [
    {
     "name": "stdout",
     "output_type": "stream",
     "text": [
      "{'rmse': 1.4023020916229265, 'mae': 1.020563816833853}\n",
      "{'rmse': {'n_factors': 200, 'n_epochs': 100, 'reg_all': 0.1}, 'mae': {'n_factors': 100, 'n_epochs': 100, 'reg_all': 0.1}}\n"
     ]
    }
   ],
   "source": [
    "print(g_s_svd.best_score)\n",
    "print(g_s_svd.best_params)"
   ]
  },
  {
   "cell_type": "code",
   "execution_count": null,
   "metadata": {},
   "outputs": [],
   "source": []
  },
  {
   "cell_type": "code",
   "execution_count": null,
   "metadata": {},
   "outputs": [],
   "source": []
  },
  {
   "cell_type": "code",
   "execution_count": 108,
   "metadata": {},
   "outputs": [
    {
     "name": "stdout",
     "output_type": "stream",
     "text": [
      "Computing the pearson similarity matrix...\n",
      "Done computing similarity matrix.\n",
      "RMSE: 1.6592\n",
      "Computing the pearson similarity matrix...\n",
      "Done computing similarity matrix.\n",
      "RMSE: 1.6591\n",
      "Computing the pearson similarity matrix...\n",
      "Done computing similarity matrix.\n",
      "RMSE: 1.6590\n",
      "Computing the pearson similarity matrix...\n",
      "Done computing similarity matrix.\n",
      "RMSE: 1.6589\n",
      "Computing the pearson similarity matrix...\n",
      "Done computing similarity matrix.\n",
      "RMSE: 1.6589\n",
      "Computing the pearson similarity matrix...\n",
      "Done computing similarity matrix.\n",
      "RMSE: 1.6589\n",
      "Computing the pearson similarity matrix...\n",
      "Done computing similarity matrix.\n",
      "RMSE: 1.6589\n",
      "Computing the pearson similarity matrix...\n",
      "Done computing similarity matrix.\n",
      "RMSE: 1.6589\n",
      "Computing the pearson similarity matrix...\n",
      "Done computing similarity matrix.\n",
      "RMSE: 1.6589\n",
      "Computing the pearson similarity matrix...\n",
      "Done computing similarity matrix.\n",
      "RMSE: 1.6589\n"
     ]
    },
    {
     "data": {
      "image/png": "[encoded data removed]",
      "text/plain": [
       "<Figure size 720x576 with 1 Axes>"
      ]
     },
     "metadata": {
      "needs_background": "light"
     },
     "output_type": "display_data"
    }
   ],
   "source": [
    "knn_basic_rmse_list = []\n",
    "\n",
    "# Calculate RMSE for different K\n",
    "for k in range(15, 160, 15):\n",
    "    knn_basic = KNNBasic(k=k, sim_options={'name':'pearson', 'user_based':True})\n",
    "    knn_basic.fit(train)\n",
    "    knn_basic_rmse_list.append(accuracy.rmse(knn_basic.test(test)))\n",
    "\n",
    "# Plot values of RMSE\n",
    "fig, ax = plt.subplots(figsize=(10, 8))\n",
    "ax.set_title('RMSE by K')\n",
    "ax.set_xlabel('k')\n",
    "ax.plot(range(15, 160, 15), knn_basic_rmse_list)\n",
    "ax.grid(True)"
   ]
  },
  {
   "cell_type": "code",
   "execution_count": null,
   "metadata": {
    "scrolled": true
   },
   "outputs": [],
   "source": [
    "knn_basic = KNNBasic(k=75, sim_options={'name':'pearson', 'user_based':True})\n",
    "cv_knn_basic = cross_validate(knn_basic, data, n_jobs=-1, verbose=True)"
   ]
  },
  {
   "cell_type": "code",
   "execution_count": 110,
   "metadata": {},
   "outputs": [
    {
     "data": {
      "text/plain": [
       "1.6564984468355402"
      ]
     },
     "execution_count": 110,
     "metadata": {},
     "output_type": "execute_result"
    }
   ],
   "source": [
    "np.mean(cv_knn_basic['test_rmse'])"
   ]
  },
  {
   "cell_type": "code",
   "execution_count": null,
   "metadata": {},
   "outputs": [],
   "source": []
  },
  {
   "cell_type": "code",
   "execution_count": 112,
   "metadata": {},
   "outputs": [
    {
     "name": "stdout",
     "output_type": "stream",
     "text": [
      "Computing the pearson similarity matrix...\n",
      "Done computing similarity matrix.\n",
      "RMSE: 1.6292\n",
      "Computing the pearson similarity matrix...\n",
      "Done computing similarity matrix.\n",
      "RMSE: 1.6292\n",
      "Computing the pearson similarity matrix...\n",
      "Done computing similarity matrix.\n",
      "RMSE: 1.6292\n",
      "Computing the pearson similarity matrix...\n",
      "Done computing similarity matrix.\n",
      "RMSE: 1.6292\n",
      "Computing the pearson similarity matrix...\n",
      "Done computing similarity matrix.\n",
      "RMSE: 1.6292\n",
      "Computing the pearson similarity matrix...\n",
      "Done computing similarity matrix.\n",
      "RMSE: 1.6292\n",
      "Computing the pearson similarity matrix...\n",
      "Done computing similarity matrix.\n",
      "RMSE: 1.6292\n",
      "Computing the pearson similarity matrix...\n",
      "Done computing similarity matrix.\n",
      "RMSE: 1.6292\n",
      "Computing the pearson similarity matrix...\n",
      "Done computing similarity matrix.\n",
      "RMSE: 1.6292\n",
      "Computing the pearson similarity matrix...\n",
      "Done computing similarity matrix.\n",
      "RMSE: 1.6292\n"
     ]
    },
    {
     "data": {
      "image/png": "[encoded data removed]",
      "text/plain": [
       "<Figure size 720x576 with 1 Axes>"
      ]
     },
     "metadata": {
      "needs_background": "light"
     },
     "output_type": "display_data"
    }
   ],
   "source": [
    "knn_basic_item_rmse_list = []\n",
    "\n",
    "# Calculate RMSE for different K\n",
    "for k in range(15, 160, 15):\n",
    "    knn_basic = KNNBasic(k=k, sim_options={'name':'pearson', 'user_based':False})\n",
    "    knn_basic.fit(train)\n",
    "    knn_basic_item_rmse_list.append(accuracy.rmse(knn_basic.test(test)))\n",
    "\n",
    "# Plot values of RMSE\n",
    "fig, ax = plt.subplots(figsize=(10, 8))\n",
    "ax.set_title('RMSE by K')\n",
    "ax.set_xlabel('k')\n",
    "ax.plot(range(15, 160, 15), knn_basic_item_rmse_list)\n",
    "ax.grid(True)"
   ]
  },
  {
   "cell_type": "code",
   "execution_count": 113,
   "metadata": {},
   "outputs": [
    {
     "name": "stdout",
     "output_type": "stream",
     "text": [
      "Evaluating RMSE, MAE of algorithm KNNBasic on 5 split(s).\n",
      "\n",
      "                  Fold 1  Fold 2  Fold 3  Fold 4  Fold 5  Mean    Std     \n",
      "RMSE (testset)    1.5949  1.6013  1.6196  1.5997  1.6003  1.6032  0.0085  \n",
      "MAE (testset)     1.0826  1.0863  1.0964  1.0856  1.0885  1.0879  0.0046  \n",
      "Fit time          0.34    0.32    0.31    0.33    0.32    0.32    0.01    \n",
      "Test time         0.52    0.52    0.57    0.57    0.32    0.50    0.09    \n"
     ]
    }
   ],
   "source": [
    "knn_item_basic = KNNBasic(k=45, sim_options={'name':'pearson', 'user_based':False})\n",
    "cv_knn_item_basic = cross_validate(knn_item_basic, data, n_jobs=-1, verbose=True)"
   ]
  },
  {
   "cell_type": "code",
   "execution_count": 114,
   "metadata": {},
   "outputs": [
    {
     "data": {
      "text/plain": [
       "1.6031590888381362"
      ]
     },
     "execution_count": 114,
     "metadata": {},
     "output_type": "execute_result"
    }
   ],
   "source": [
    "np.mean(cv_knn_item_basic['test_rmse'])"
   ]
  },
  {
   "cell_type": "code",
   "execution_count": null,
   "metadata": {},
   "outputs": [],
   "source": []
  },
  {
   "cell_type": "code",
   "execution_count": 115,
   "metadata": {},
   "outputs": [
    {
     "name": "stdout",
     "output_type": "stream",
     "text": [
      "Estimating biases using als...\n",
      "Computing the pearson similarity matrix...\n",
      "Done computing similarity matrix.\n",
      "RMSE: 1.5328\n",
      "Estimating biases using als...\n",
      "Computing the pearson similarity matrix...\n",
      "Done computing similarity matrix.\n",
      "RMSE: 1.5327\n",
      "Estimating biases using als...\n",
      "Computing the pearson similarity matrix...\n",
      "Done computing similarity matrix.\n",
      "RMSE: 1.5327\n",
      "Estimating biases using als...\n",
      "Computing the pearson similarity matrix...\n",
      "Done computing similarity matrix.\n",
      "RMSE: 1.5326\n",
      "Estimating biases using als...\n",
      "Computing the pearson similarity matrix...\n",
      "Done computing similarity matrix.\n",
      "RMSE: 1.5325\n",
      "Estimating biases using als...\n",
      "Computing the pearson similarity matrix...\n",
      "Done computing similarity matrix.\n",
      "RMSE: 1.5325\n",
      "Estimating biases using als...\n",
      "Computing the pearson similarity matrix...\n",
      "Done computing similarity matrix.\n",
      "RMSE: 1.5325\n",
      "Estimating biases using als...\n",
      "Computing the pearson similarity matrix...\n",
      "Done computing similarity matrix.\n",
      "RMSE: 1.5325\n",
      "Estimating biases using als...\n",
      "Computing the pearson similarity matrix...\n",
      "Done computing similarity matrix.\n",
      "RMSE: 1.5325\n",
      "Estimating biases using als...\n",
      "Computing the pearson similarity matrix...\n",
      "Done computing similarity matrix.\n",
      "RMSE: 1.5325\n"
     ]
    },
    {
     "data": {
      "image/png": "[encoded data removed]",
      "text/plain": [
       "<Figure size 720x576 with 1 Axes>"
      ]
     },
     "metadata": {
      "needs_background": "light"
     },
     "output_type": "display_data"
    }
   ],
   "source": [
    "knn_baseline_rmse_list = []\n",
    "\n",
    "# Calculate SSE for different K\n",
    "for k in range(15, 160, 15):\n",
    "    knn_baseline = KNNBaseline(k=k, sim_options={'name':'pearson', 'user_based':True})\n",
    "    knn_baseline.fit(train)\n",
    "    knn_baseline_rmse_list.append(accuracy.rmse(knn_baseline.test(test)))\n",
    "\n",
    "# Plot values of RMSE\n",
    "fig, ax = plt.subplots(figsize=(10, 8))\n",
    "ax.set_title('RMSE by K')\n",
    "ax.set_xlabel('k')\n",
    "ax.plot(range(15, 160, 15), knn_baseline_rmse_list)\n",
    "ax.grid(True)"
   ]
  },
  {
   "cell_type": "code",
   "execution_count": null,
   "metadata": {},
   "outputs": [],
   "source": []
  },
  {
   "cell_type": "code",
   "execution_count": 121,
   "metadata": {},
   "outputs": [
    {
     "name": "stdout",
     "output_type": "stream",
     "text": [
      "Evaluating RMSE, MAE of algorithm KNNBaseline on 5 split(s).\n",
      "\n",
      "                  Fold 1  Fold 2  Fold 3  Fold 4  Fold 5  Mean    Std     \n",
      "RMSE (testset)    1.5526  1.5333  1.5083  1.5060  1.5289  1.5258  0.0172  \n",
      "MAE (testset)     1.1366  1.1235  1.1165  1.1152  1.1282  1.1240  0.0079  \n",
      "Fit time          256.68  252.16  253.64  257.13  64.22   216.77  76.30   \n",
      "Test time         11.96   13.62   12.03   11.86   5.24    10.94   2.92    \n"
     ]
    }
   ],
   "source": [
    "knn_baseline = KNNBaseline(k=75, sim_options={'name':'pearson', 'user_based':True})\n",
    "cv_knn_baseline = cross_validate(knn_baseline, data, n_jobs=-1, verbose=True)"
   ]
  },
  {
   "cell_type": "code",
   "execution_count": 122,
   "metadata": {},
   "outputs": [
    {
     "data": {
      "text/plain": [
       "1.5258146718519003"
      ]
     },
     "execution_count": 122,
     "metadata": {},
     "output_type": "execute_result"
    }
   ],
   "source": [
    "np.mean(cv_knn_baseline['test_rmse'])"
   ]
  },
  {
   "cell_type": "code",
   "execution_count": null,
   "metadata": {},
   "outputs": [],
   "source": []
  },
  {
   "cell_type": "code",
   "execution_count": 118,
   "metadata": {},
   "outputs": [
    {
     "name": "stdout",
     "output_type": "stream",
     "text": [
      "Estimating biases using als...\n",
      "Computing the pearson similarity matrix...\n",
      "Done computing similarity matrix.\n",
      "RMSE: 1.5410\n",
      "Estimating biases using als...\n",
      "Computing the pearson similarity matrix...\n",
      "Done computing similarity matrix.\n",
      "RMSE: 1.5410\n",
      "Estimating biases using als...\n",
      "Computing the pearson similarity matrix...\n",
      "Done computing similarity matrix.\n",
      "RMSE: 1.5410\n",
      "Estimating biases using als...\n",
      "Computing the pearson similarity matrix...\n",
      "Done computing similarity matrix.\n",
      "RMSE: 1.5410\n",
      "Estimating biases using als...\n",
      "Computing the pearson similarity matrix...\n",
      "Done computing similarity matrix.\n",
      "RMSE: 1.5410\n",
      "Estimating biases using als...\n",
      "Computing the pearson similarity matrix...\n",
      "Done computing similarity matrix.\n",
      "RMSE: 1.5410\n",
      "Estimating biases using als...\n",
      "Computing the pearson similarity matrix...\n",
      "Done computing similarity matrix.\n",
      "RMSE: 1.5410\n",
      "Estimating biases using als...\n",
      "Computing the pearson similarity matrix...\n",
      "Done computing similarity matrix.\n",
      "RMSE: 1.5410\n",
      "Estimating biases using als...\n",
      "Computing the pearson similarity matrix...\n",
      "Done computing similarity matrix.\n",
      "RMSE: 1.5410\n",
      "Estimating biases using als...\n",
      "Computing the pearson similarity matrix...\n",
      "Done computing similarity matrix.\n",
      "RMSE: 1.5410\n"
     ]
    },
    {
     "data": {
      "image/png": "[encoded data removed]",
      "text/plain": [
       "<Figure size 720x576 with 1 Axes>"
      ]
     },
     "metadata": {
      "needs_background": "light"
     },
     "output_type": "display_data"
    }
   ],
   "source": [
    "knn_baseline_item_rmse_list = []\n",
    "\n",
    "# Calculate SSE for different K\n",
    "for k in range(15, 160, 15):\n",
    "    knn_baseline = KNNBaseline(k=k, sim_options={'name':'pearson', 'user_based':False})\n",
    "    knn_baseline.fit(train)\n",
    "    knn_baseline_item_rmse_list.append(accuracy.rmse(knn_baseline.test(test)))\n",
    "\n",
    "# Plot values of RMSE\n",
    "fig, ax = plt.subplots(figsize=(10, 8))\n",
    "ax.set_title('RMSE by K')\n",
    "ax.set_xlabel('k')\n",
    "ax.plot(range(15, 160, 15), knn_baseline_item_rmse_list)\n",
    "ax.grid(True)"
   ]
  },
  {
   "cell_type": "code",
   "execution_count": 119,
   "metadata": {},
   "outputs": [
    {
     "name": "stdout",
     "output_type": "stream",
     "text": [
      "Evaluating RMSE, MAE of algorithm KNNBaseline on 5 split(s).\n",
      "\n",
      "                  Fold 1  Fold 2  Fold 3  Fold 4  Fold 5  Mean    Std     \n",
      "RMSE (testset)    1.5147  1.4976  1.5228  1.5048  1.5289  1.5138  0.0114  \n",
      "MAE (testset)     1.0382  1.0385  1.0455  1.0360  1.0466  1.0410  0.0043  \n",
      "Fit time          0.34    0.39    0.47    0.44    0.42    0.41    0.04    \n",
      "Test time         0.59    0.61    0.56    0.53    0.34    0.52    0.10    \n"
     ]
    }
   ],
   "source": [
    "knn_item_baseline = KNNBaseline(k=60, sim_options={'name':'pearson', 'user_based':False})\n",
    "cv_knn_item_baseline = cross_validate(knn_item_baseline, data, n_jobs=-1, verbose=True)"
   ]
  },
  {
   "cell_type": "code",
   "execution_count": 120,
   "metadata": {},
   "outputs": [
    {
     "data": {
      "text/plain": [
       "1.513750487255257"
      ]
     },
     "execution_count": 120,
     "metadata": {},
     "output_type": "execute_result"
    }
   ],
   "source": [
    "np.mean(cv_knn_item_baseline['test_rmse'])"
   ]
  },
  {
   "cell_type": "code",
   "execution_count": null,
   "metadata": {},
   "outputs": [],
   "source": []
  },
  {
   "cell_type": "code",
   "execution_count": 147,
   "metadata": {},
   "outputs": [
    {
     "name": "stdout",
     "output_type": "stream",
     "text": [
      "Computing the pearson similarity matrix...\n",
      "Done computing similarity matrix.\n",
      "RMSE: 1.5658\n",
      "Computing the pearson similarity matrix...\n",
      "Done computing similarity matrix.\n",
      "RMSE: 1.5656\n",
      "Computing the pearson similarity matrix...\n",
      "Done computing similarity matrix.\n",
      "RMSE: 1.5656\n",
      "Computing the pearson similarity matrix...\n",
      "Done computing similarity matrix.\n",
      "RMSE: 1.5656\n",
      "Computing the pearson similarity matrix...\n",
      "Done computing similarity matrix.\n",
      "RMSE: 1.5655\n",
      "Computing the pearson similarity matrix...\n",
      "Done computing similarity matrix.\n",
      "RMSE: 1.5656\n",
      "Computing the pearson similarity matrix...\n",
      "Done computing similarity matrix.\n",
      "RMSE: 1.5656\n",
      "Computing the pearson similarity matrix...\n",
      "Done computing similarity matrix.\n",
      "RMSE: 1.5656\n",
      "Computing the pearson similarity matrix...\n",
      "Done computing similarity matrix.\n",
      "RMSE: 1.5656\n",
      "Computing the pearson similarity matrix...\n",
      "Done computing similarity matrix.\n",
      "RMSE: 1.5656\n"
     ]
    },
    {
     "data": {
      "image/png": "[encoded data removed]",
      "text/plain": [
       "<Figure size 720x576 with 1 Axes>"
      ]
     },
     "metadata": {
      "needs_background": "light"
     },
     "output_type": "display_data"
    }
   ],
   "source": [
    "knn_means_rmse_list = []\n",
    "\n",
    "# Calculate RMSE for different K\n",
    "for k in range(15, 160, 15):\n",
    "    knn_means = KNNWithMeans(k=k, sim_options={'name':'pearson', 'user_based':True})\n",
    "    knn_means.fit(train)\n",
    "    knn_means_rmse_list.append(accuracy.rmse(knn_means.test(test)))\n",
    "\n",
    "# Plot values of RMSE\n",
    "fig, ax = plt.subplots(figsize=(10, 8))\n",
    "ax.set_title('RMSE by K')\n",
    "ax.set_xlabel('k')\n",
    "ax.plot(range(15, 160, 15), knn_means_rmse_list)\n",
    "ax.grid(True)"
   ]
  },
  {
   "cell_type": "code",
   "execution_count": 148,
   "metadata": {},
   "outputs": [
    {
     "name": "stdout",
     "output_type": "stream",
     "text": [
      "Evaluating RMSE, MAE of algorithm KNNBaseline on 5 split(s).\n",
      "\n",
      "                  Fold 1  Fold 2  Fold 3  Fold 4  Fold 5  Mean    Std     \n",
      "RMSE (testset)    1.5251  1.5142  1.5176  1.4978  1.5203  1.5150  0.0093  \n",
      "MAE (testset)     1.0510  1.0393  1.0395  1.0305  1.0414  1.0403  0.0065  \n",
      "Fit time          0.46    0.45    0.45    0.43    0.26    0.41    0.08    \n",
      "Test time         0.60    0.58    0.59    0.59    0.31    0.53    0.11    \n"
     ]
    }
   ],
   "source": [
    "knn_item_baseline = KNNBaseline(k=75, sim_options={'name':'pearson', 'user_based':False})\n",
    "cv_knn_item_baseline = cross_validate(knn_item_baseline, data, n_jobs=-1, verbose=True)"
   ]
  },
  {
   "cell_type": "code",
   "execution_count": 149,
   "metadata": {},
   "outputs": [
    {
     "data": {
      "text/plain": [
       "1.5150031184137878"
      ]
     },
     "execution_count": 149,
     "metadata": {},
     "output_type": "execute_result"
    }
   ],
   "source": [
    "np.mean(cv_knn_item_baseline['test_rmse'])"
   ]
  },
  {
   "cell_type": "code",
   "execution_count": null,
   "metadata": {},
   "outputs": [],
   "source": []
  },
  {
   "cell_type": "code",
   "execution_count": null,
   "metadata": {
    "scrolled": true
   },
   "outputs": [],
   "source": []
  },
  {
   "cell_type": "code",
   "execution_count": 371,
   "metadata": {},
   "outputs": [],
   "source": [
    "def Anime_rater(Top_1000_anime, num, genre=None):\n",
    "    userID = 300000000\n",
    "    rating_list = []\n",
    "    while num > 0:\n",
    "        if genre:\n",
    "            anime = Top_1000_anime[Top_1000_anime['Genres'].str.contains(genre)].sample(1)\n",
    "        else:\n",
    "            anime = Top_1000_anime.sample(1)\n",
    "        print(anime[['Cleaned_Name','Year_Premiered','Type']])\n",
    "        rating = input('How do you rate this anime on a scale of 1-10, press n if you have not seen :\\n')\n",
    "        if rating not in str(list(range(1,11))):\n",
    "            continue\n",
    "        else:\n",
    "            rating_one_anime = {'user_id':userID,'anime_id':anime['MAL_ID'].values[0],'rating':rating}\n",
    "            rating_list.append(rating_one_anime) \n",
    "            num -= 1\n",
    "    return rating_list    "
   ]
  },
  {
   "cell_type": "code",
   "execution_count": 372,
   "metadata": {},
   "outputs": [
    {
     "name": "stdout",
     "output_type": "stream",
     "text": [
      "                        Cleaned_Name Year_Premiered Type\n",
      "7453  Devil Survivor 2 The Animation           2013   TV\n",
      "How do you rate this anime on a scale of 1-10, press n if you have not seen :\n",
      "10\n",
      "                  Cleaned_Name Year_Premiered Type\n",
      "8559  MUSHI-SHI -Next Passage-           2014   TV\n",
      "How do you rate this anime on a scale of 1-10, press n if you have not seen :\n",
      "10\n",
      "                                           Cleaned_Name Year_Premiered   Type\n",
      "6116  Berserk:The Golden Age Arc I - The Egg of the ...           2012  Movie\n",
      "How do you rate this anime on a scale of 1-10, press n if you have not seen :\n",
      "10\n",
      "                                           Cleaned_Name Year_Premiered   Type\n",
      "15680  Boku no Hero Academia the Movie 2: Heroes:Rising           2019  Movie\n",
      "How do you rate this anime on a scale of 1-10, press n if you have not seen :\n",
      "10\n",
      "      Cleaned_Name Year_Premiered Type\n",
      "11037         GATE           2016   TV\n",
      "How do you rate this anime on a scale of 1-10, press n if you have not seen :\n",
      "10\n",
      "      Cleaned_Name Year_Premiered Type\n",
      "13769  Banana Fish           2018   TV\n",
      "How do you rate this anime on a scale of 1-10, press n if you have not seen :\n",
      "10\n"
     ]
    }
   ],
   "source": [
    "user_rating = Anime_rater(Top_1000_anime, 6)"
   ]
  },
  {
   "cell_type": "code",
   "execution_count": 373,
   "metadata": {},
   "outputs": [
    {
     "data": {
      "text/plain": [
       "[{'user_id': 300000000, 'anime_id': 16512, 'rating': '10'},\n",
       " {'user_id': 300000000, 'anime_id': 21939, 'rating': '10'},\n",
       " {'user_id': 300000000, 'anime_id': 10218, 'rating': '10'},\n",
       " {'user_id': 300000000, 'anime_id': 39565, 'rating': '10'},\n",
       " {'user_id': 300000000, 'anime_id': 31637, 'rating': '10'},\n",
       " {'user_id': 300000000, 'anime_id': 36649, 'rating': '10'}]"
      ]
     },
     "execution_count": 373,
     "metadata": {},
     "output_type": "execute_result"
    }
   ],
   "source": [
    "user_rating"
   ]
  },
  {
   "cell_type": "code",
   "execution_count": null,
   "metadata": {},
   "outputs": [],
   "source": []
  },
  {
   "cell_type": "code",
   "execution_count": 374,
   "metadata": {},
   "outputs": [],
   "source": [
    "new_ratings_df = filtered_df_1000_anime.append(user_rating,ignore_index=True)\n",
    "new_data = Dataset.load_from_df(new_ratings_df, reader)"
   ]
  },
  {
   "cell_type": "code",
   "execution_count": 375,
   "metadata": {},
   "outputs": [
    {
     "data": {
      "text/plain": [
       "<surprise.prediction_algorithms.matrix_factorization.SVD at 0x7f925e15f910>"
      ]
     },
     "execution_count": 375,
     "metadata": {},
     "output_type": "execute_result"
    }
   ],
   "source": [
    "svd_ = SVD(n_factors=200, reg_all=0.1, n_epochs=100)\n",
    "svd_.fit(new_data.build_full_trainset())"
   ]
  },
  {
   "cell_type": "code",
   "execution_count": 376,
   "metadata": {},
   "outputs": [],
   "source": [
    "list_of_anime = []\n",
    "for m_id in filtered_df_1000_anime['anime_id'].unique():\n",
    "    list_of_anime.append((m_id,svd_.predict(3000000000,m_id)[3]))"
   ]
  },
  {
   "cell_type": "code",
   "execution_count": 377,
   "metadata": {},
   "outputs": [],
   "source": [
    "ranked_anime = sorted(list_of_anime, key=lambda x:x[1], reverse=True)"
   ]
  },
  {
   "cell_type": "code",
   "execution_count": 378,
   "metadata": {},
   "outputs": [
    {
     "name": "stdout",
     "output_type": "stream",
     "text": [
      "Recommendation #  1 :  6006    Gintama Season 2\n",
      "Name: Cleaned_Name, dtype: object \n",
      "\n",
      "Recommendation #  2 :  12242    Gintama Season 5\n",
      "Name: Cleaned_Name, dtype: object \n",
      "\n",
      "Recommendation #  3 :  4690    Redline\n",
      "Name: Cleaned_Name, dtype: object \n",
      "\n",
      "Recommendation #  4 :  4018    the Garden of sinners Chapter 7:Murder Specula...\n",
      "Name: Cleaned_Name, dtype: object \n",
      "\n",
      "Recommendation #  5 :  13769    Banana Fish\n",
      "Name: Cleaned_Name, dtype: object \n",
      "\n"
     ]
    }
   ],
   "source": [
    "def recommended_anime(user_ratings, anime_title_df, n):\n",
    "        for idx, rec in enumerate(user_ratings):\n",
    "            title = anime_title_df.loc[anime_title_df['MAL_ID'] == int(rec[0])]['Cleaned_Name']\n",
    "            print('Recommendation # ', idx+1, ': ', title, '\\n')\n",
    "            n-= 1\n",
    "            if n == 0:\n",
    "                break\n",
    "            \n",
    "recommended_anime(ranked_anime, Top_1000_anime, 5)"
   ]
  },
  {
   "cell_type": "code",
   "execution_count": 633,
   "metadata": {},
   "outputs": [
    {
     "data": {
      "text/plain": [
       "34096"
      ]
     },
     "execution_count": 633,
     "metadata": {},
     "output_type": "execute_result"
    }
   ],
   "source": [
    "ranked_anime[1][0]"
   ]
  },
  {
   "cell_type": "code",
   "execution_count": null,
   "metadata": {},
   "outputs": [],
   "source": []
  },
  {
   "cell_type": "code",
   "execution_count": null,
   "metadata": {},
   "outputs": [],
   "source": []
  },
  {
   "cell_type": "code",
   "execution_count": 381,
   "metadata": {},
   "outputs": [],
   "source": [
    "def Anime_Recommender(user_ratings, anime_df, num, rec_num, genre=None):\n",
    "    userID = 300000000\n",
    "    rating_list = []\n",
    "    while num > 0:\n",
    "        if genre:\n",
    "            anime = anime_df[anime_df['Genres'].str.contains(genre)].sample(1)\n",
    "        else:\n",
    "            anime = anime_df.sample(1)\n",
    "        print(anime[['Cleaned_Name','Year_Premiered','Type']])\n",
    "        rating = input('How do you rate this anime on a scale of 1-10, press n if you have not seen :\\n')\n",
    "        if rating not in str(list(range(1,11))):\n",
    "            clear_output(wait=True)\n",
    "            continue\n",
    "        else:\n",
    "            rating_one_anime = {'user_id':userID,'anime_id':anime['MAL_ID'].values[0],'rating':rating}\n",
    "            rating_list.append(rating_one_anime)\n",
    "            clear_output(wait=True)\n",
    "            num -= 1\n",
    "    new_ratings_df = user_ratings.append(rating_list, ignore_index=True) \n",
    "    reader_rec = Reader(rating_scale=(1,10))\n",
    "    new_data = Dataset.load_from_df(new_ratings_df, reader_rec)\n",
    "    svd_ = SVD(n_factors=200, reg_all=0.1, n_epochs=100)\n",
    "    svd_.fit(new_data.build_full_trainset())\n",
    "    list_of_anime = []\n",
    "    for a_id in user_ratings['anime_id'].unique():\n",
    "        list_of_anime.append((a_id, svd_.predict(3000000000, a_id)[3]))\n",
    "    ranked_anime = sorted(list_of_anime, key=lambda x:x[1], reverse=True)\n",
    "    for idx, rec in enumerate(ranked_anime):\n",
    "        title = anime_df.loc[anime_df['MAL_ID'] == int(rec[0])]['Cleaned_Name']\n",
    "        print('Recommendation # ', idx+1, ': ', title, '\\n')\n",
    "        rec_num -= 1\n",
    "        if rec_num == 0:\n",
    "            break"
   ]
  },
  {
   "cell_type": "code",
   "execution_count": 380,
   "metadata": {},
   "outputs": [
    {
     "name": "stdout",
     "output_type": "stream",
     "text": [
      "Recommendation #  1 :  6006    Gintama Season 2\n",
      "Name: Cleaned_Name, dtype: object \n",
      "\n",
      "Recommendation #  2 :  4690    Redline\n",
      "Name: Cleaned_Name, dtype: object \n",
      "\n",
      "Recommendation #  3 :  12242    Gintama Season 5\n",
      "Name: Cleaned_Name, dtype: object \n",
      "\n",
      "Recommendation #  4 :  13769    Banana Fish\n",
      "Name: Cleaned_Name, dtype: object \n",
      "\n",
      "Recommendation #  5 :  9343    Fate/stay night:Heaven's Feel - I. Presage Flower\n",
      "Name: Cleaned_Name, dtype: object \n",
      "\n",
      "CPU times: user 48.8 s, sys: 674 ms, total: 49.5 s\n",
      "Wall time: 2min 23s\n"
     ]
    }
   ],
   "source": [
    "%%time\n",
    "Anime_Recommender(filtered_df_1000_anime, Top_1000_anime, 5, 5)"
   ]
  },
  {
   "cell_type": "code",
   "execution_count": null,
   "metadata": {},
   "outputs": [],
   "source": []
  },
  {
   "cell_type": "code",
   "execution_count": null,
   "metadata": {},
   "outputs": [],
   "source": []
  },
  {
   "cell_type": "code",
   "execution_count": 716,
   "metadata": {},
   "outputs": [],
   "source": [
    "def Anime_Recommender_2(user_ratings, anime_df, rating_num, rec_num, new_user=True, genre=None, show_type=None):\n",
    "    user_entry = 1\n",
    "    while user_entry > 0:\n",
    "        if new_user == False:\n",
    "            userID = int(input('Please enter User ID (Numerical values only)'))\n",
    "            if userID not in list(user_ratings['user_id']) or userID == '':\n",
    "                print('User ID not in system')\n",
    "                continue\n",
    "            else:\n",
    "                print('Welcome Back')\n",
    "                user_entry -= 1\n",
    "        else:\n",
    "            userID = filtered_df_1000_anime['user_id'].max() + 1\n",
    "            print('Welcome')\n",
    "            print('Your User ID is: ',userID)\n",
    "            user_entry -= 1\n",
    "    rating_list = pd.DataFrame()\n",
    "    if new_user == False:\n",
    "        rating_list = rating_list.append(user_ratings[user_ratings['user_id'] == userID], ignore_index=True)\n",
    "    else:\n",
    "        rating_list = rating_list\n",
    "    while rating_num > 0:\n",
    "        anime = anime_df.sample(1)\n",
    "        print(anime[['Cleaned_Name','Year_Premiered','Type']])\n",
    "        rating = input('How do you rate this anime on a scale of 1-10, press n if you have not seen :\\n')\n",
    "        if rating == 'n':\n",
    "            clear_output(wait=True)\n",
    "            continue\n",
    "        elif rating not in str(list(range(1,11))) or rating == '':           \n",
    "            clear_output(wait=True)\n",
    "            print('Not a valid entry')\n",
    "            continue\n",
    "        else:\n",
    "            rating_one_anime = {'user_id':userID,'anime_id':anime['MAL_ID'].values[0],'rating':rating}\n",
    "            rating_list = rating_list.append(rating_one_anime, ignore_index=True)\n",
    "            rating_list = rating_list[['user_id','anime_id','rating']]\n",
    "            clear_output(wait=True)\n",
    "            rating_num -= 1\n",
    "    new_ratings_df = user_ratings.append(rating_list, ignore_index=True) \n",
    "    reader_rec = Reader(rating_scale=(1,10))\n",
    "    new_data = Dataset.load_from_df(new_ratings_df, reader_rec)\n",
    "    svd_ = SVD(n_factors=200, reg_all=0.1, n_epochs=100)\n",
    "    svd_.fit(new_data.build_full_trainset())\n",
    "    list_of_anime = []\n",
    "    for a_id in user_ratings['anime_id'].unique():\n",
    "        list_of_anime.append((a_id, svd_.predict(userID, a_id)[3]))\n",
    "    ranked_anime = sorted(list_of_anime, key=lambda x:x[1], reverse=True)\n",
    "    new_ranked_anime = []\n",
    "    for x in ranked_anime:\n",
    "        if x[0] in list(rating_list['anime_id']):\n",
    "            continue\n",
    "        else:\n",
    "            new_ranked_anime.append(x)\n",
    "    if genre:\n",
    "        new_list = []\n",
    "        genre_list = list(anime_df[anime_df['Genres'].str.contains(genre)]['MAL_ID'])\n",
    "        for x in new_ranked_anime:\n",
    "            if x[0] in genre_list:\n",
    "                new_list.append(x)\n",
    "            else:\n",
    "                continue\n",
    "        new_ranked_anime = new_list\n",
    "    else:\n",
    "        pass\n",
    "    if show_type:\n",
    "        new_list = []\n",
    "        type_list = list(anime_df[anime_df['Type'].str.contains(show_type)]['MAL_ID'])\n",
    "        for x in new_ranked_anime:\n",
    "            if x[0] in type_list:\n",
    "                new_list.append(x)\n",
    "            else:\n",
    "                continue\n",
    "        new_ranked_anime = new_list\n",
    "    else:\n",
    "        pass\n",
    "    if len(new_ranked_anime) == 0:\n",
    "        return print('Unfortunately, no results fit your criteria')  \n",
    "    elif len(new_ranked_anime) < rec_num:\n",
    "        rec_num = len(new_ranked_anime)\n",
    "        print('Sorry, These are all our results')   \n",
    "    else:\n",
    "        pass\n",
    "    for idx, rec in enumerate(new_ranked_anime):\n",
    "        title = anime_df.loc[anime_df['MAL_ID'] == int(rec[0])]['Cleaned_Name']\n",
    "        print('Recommendation # ', idx+1, ': ', title, '\\n')\n",
    "        rec_num -= 1\n",
    "        if rec_num == 0:\n",
    "            break\n",
    "            "
   ]
  },
  {
   "cell_type": "code",
   "execution_count": 718,
   "metadata": {
    "scrolled": true
   },
   "outputs": [
    {
     "name": "stdout",
     "output_type": "stream",
     "text": [
      "Unfortunately, no results fit your criteria\n"
     ]
    }
   ],
   "source": [
    "Anime_Recommender_2(filtered_df_1000_anime, Top_1000_anime, 5, 5)"
   ]
  },
  {
   "cell_type": "code",
   "execution_count": null,
   "metadata": {},
   "outputs": [],
   "source": []
  },
  {
   "cell_type": "code",
   "execution_count": 714,
   "metadata": {},
   "outputs": [
    {
     "data": {
      "text/html": [
       "<div>\n",
       "<style scoped>\n",
       "    .dataframe tbody tr th:only-of-type {\n",
       "        vertical-align: middle;\n",
       "    }\n",
       "\n",
       "    .dataframe tbody tr th {\n",
       "        vertical-align: top;\n",
       "    }\n",
       "\n",
       "    .dataframe thead th {\n",
       "        text-align: right;\n",
       "    }\n",
       "</style>\n",
       "<table border=\"1\" class=\"dataframe\">\n",
       "  <thead>\n",
       "    <tr style=\"text-align: right;\">\n",
       "      <th></th>\n",
       "      <th>MAL_ID</th>\n",
       "      <th>Name</th>\n",
       "      <th>Score</th>\n",
       "      <th>Genres</th>\n",
       "      <th>English name</th>\n",
       "      <th>Japanese name</th>\n",
       "      <th>Type</th>\n",
       "      <th>Episodes</th>\n",
       "      <th>Aired</th>\n",
       "      <th>Premiered</th>\n",
       "      <th>Producers</th>\n",
       "      <th>Licensors</th>\n",
       "      <th>Studios</th>\n",
       "      <th>Source</th>\n",
       "      <th>Duration</th>\n",
       "      <th>Rating</th>\n",
       "      <th>Ranked</th>\n",
       "      <th>Popularity</th>\n",
       "      <th>Members</th>\n",
       "      <th>Favorites</th>\n",
       "      <th>Watching</th>\n",
       "      <th>Completed</th>\n",
       "      <th>On-Hold</th>\n",
       "      <th>Dropped</th>\n",
       "      <th>Plan to Watch</th>\n",
       "      <th>Score-10</th>\n",
       "      <th>Score-9</th>\n",
       "      <th>Score-8</th>\n",
       "      <th>Score-7</th>\n",
       "      <th>Score-6</th>\n",
       "      <th>Score-5</th>\n",
       "      <th>Score-4</th>\n",
       "      <th>Score-3</th>\n",
       "      <th>Score-2</th>\n",
       "      <th>Score-1</th>\n",
       "      <th>Cleaned_Name</th>\n",
       "      <th>Year_Premiered</th>\n",
       "      <th>Duration_in_Minutes</th>\n",
       "    </tr>\n",
       "  </thead>\n",
       "  <tbody>\n",
       "    <tr>\n",
       "      <th>5846</th>\n",
       "      <td>9617</td>\n",
       "      <td>K-On! Movie</td>\n",
       "      <td>8.33</td>\n",
       "      <td>Music, Slice of Life, Comedy</td>\n",
       "      <td>K-ON! The Movie</td>\n",
       "      <td>映画 けいおん！</td>\n",
       "      <td>Movie</td>\n",
       "      <td>1</td>\n",
       "      <td>Dec 3, 2011</td>\n",
       "      <td>Unknown</td>\n",
       "      <td>Pony Canyon, Animation Do</td>\n",
       "      <td>Sentai Filmworks</td>\n",
       "      <td>Kyoto Animation</td>\n",
       "      <td>4-koma manga</td>\n",
       "      <td>[1, hr., 50, min.]</td>\n",
       "      <td>PG-13 - Teens 13 or older</td>\n",
       "      <td>202.0</td>\n",
       "      <td>607</td>\n",
       "      <td>238850</td>\n",
       "      <td>2091</td>\n",
       "      <td>3372</td>\n",
       "      <td>183015</td>\n",
       "      <td>1561</td>\n",
       "      <td>824</td>\n",
       "      <td>50078</td>\n",
       "      <td>29490.0</td>\n",
       "      <td>36866.0</td>\n",
       "      <td>41053.0</td>\n",
       "      <td>21891.0</td>\n",
       "      <td>6997.0</td>\n",
       "      <td>2415.0</td>\n",
       "      <td>656.0</td>\n",
       "      <td>293.0</td>\n",
       "      <td>200.0</td>\n",
       "      <td>445.0</td>\n",
       "      <td>K-ON! The Movie</td>\n",
       "      <td>2011</td>\n",
       "      <td>110.0</td>\n",
       "    </tr>\n",
       "  </tbody>\n",
       "</table>\n",
       "</div>"
      ],
      "text/plain": [
       "      MAL_ID         Name Score                        Genres  \\\n",
       "5846    9617  K-On! Movie  8.33  Music, Slice of Life, Comedy   \n",
       "\n",
       "         English name Japanese name   Type Episodes        Aired Premiered  \\\n",
       "5846  K-ON! The Movie      映画 けいおん！  Movie        1  Dec 3, 2011   Unknown   \n",
       "\n",
       "                      Producers         Licensors          Studios  \\\n",
       "5846  Pony Canyon, Animation Do  Sentai Filmworks  Kyoto Animation   \n",
       "\n",
       "            Source            Duration                     Rating Ranked  \\\n",
       "5846  4-koma manga  [1, hr., 50, min.]  PG-13 - Teens 13 or older  202.0   \n",
       "\n",
       "      Popularity  Members  Favorites  Watching  Completed  On-Hold  Dropped  \\\n",
       "5846         607   238850       2091      3372     183015     1561      824   \n",
       "\n",
       "      Plan to Watch Score-10  Score-9  Score-8  Score-7 Score-6 Score-5  \\\n",
       "5846          50078  29490.0  36866.0  41053.0  21891.0  6997.0  2415.0   \n",
       "\n",
       "     Score-4 Score-3 Score-2 Score-1     Cleaned_Name Year_Premiered  \\\n",
       "5846   656.0   293.0   200.0   445.0  K-ON! The Movie           2011   \n",
       "\n",
       "      Duration_in_Minutes  \n",
       "5846                110.0  "
      ]
     },
     "execution_count": 714,
     "metadata": {},
     "output_type": "execute_result"
    }
   ],
   "source": [
    "Top_1000_anime[Top_1000_anime['Cleaned_Name']=='K-ON! The Movie']"
   ]
  },
  {
   "cell_type": "code",
   "execution_count": null,
   "metadata": {},
   "outputs": [],
   "source": []
  },
  {
   "cell_type": "code",
   "execution_count": null,
   "metadata": {},
   "outputs": [],
   "source": []
  },
  {
   "cell_type": "code",
   "execution_count": null,
   "metadata": {},
   "outputs": [],
   "source": []
  }
 ],
 "metadata": {
  "kernelspec": {
   "display_name": "learn-env",
   "language": "python",
   "name": "learn-env"
  },
  "language_info": {
   "codemirror_mode": {
    "name": "ipython",
    "version": 3
   },
   "file_extension": ".py",
   "mimetype": "text/x-python",
   "name": "python",
   "nbconvert_exporter": "python",
   "pygments_lexer": "ipython3",
   "version": "3.8.5"
  }
 },
 "nbformat": 4,
 "nbformat_minor": 4
}
